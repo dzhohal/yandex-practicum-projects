{
 "cells": [
  {
   "cell_type": "markdown",
   "metadata": {},
   "source": [
    "### Определение надежности заёмщиков банка\n",
    "_____\n",
    "##### В данном исследовании мы будем изучать таблицу с данными заемщиков банка.\n",
    "______\n",
    "\n",
    "##### Часть 1. Изучение общей информации:\n",
    "* [1. Изучение файлов с данными, получение общей информации, загрузка библиотек.](#section1)\n",
    "* [2. Нахождение и ликвидация пропусков.](#section2)\n",
    "\n",
    "##### Часть 2. Подготовка данных:\n",
    "* [1. Приведение данных к нужным типам.](#section3)\n",
    "* [2. Нахождение и исправление аномалий и ошибок.](#section4)\n",
    "* [3. Поиск и обработка дубликатов.](#section5)\n",
    "\n",
    "##### Часть 3. Категоризация данных:\n",
    "\n",
    "* [1. Лемматизация.](#section6)\n",
    "* [2. Классификация по возрастным группам.](#section7)\n",
    "* [3. Классификация по доходам.](#section8)\n",
    "\n",
    "##### Часть 4. Подведение итогов:\n",
    "* [1. Ответы на вопросы.](#section9)\n",
    "* [2. Общий вывод.](#section10)"
   ]
  },
  {
   "cell_type": "markdown",
   "metadata": {},
   "source": [
    "# <a id=\"section1\">1.1 Изучение файлов с данными, получение общей информации, загрузка библиотек.</a>"
   ]
  },
  {
   "cell_type": "code",
   "execution_count": 27,
   "metadata": {},
   "outputs": [
    {
     "name": "stdout",
     "output_type": "stream",
     "text": [
      "<class 'pandas.core.frame.DataFrame'>\n",
      "RangeIndex: 21525 entries, 0 to 21524\n",
      "Data columns (total 12 columns):\n",
      " #   Column            Non-Null Count  Dtype  \n",
      "---  ------            --------------  -----  \n",
      " 0   children          21525 non-null  int64  \n",
      " 1   days_employed     19351 non-null  float64\n",
      " 2   dob_years         21525 non-null  int64  \n",
      " 3   education         21525 non-null  object \n",
      " 4   education_id      21525 non-null  int64  \n",
      " 5   family_status     21525 non-null  object \n",
      " 6   family_status_id  21525 non-null  int64  \n",
      " 7   gender            21525 non-null  object \n",
      " 8   income_type       21525 non-null  object \n",
      " 9   debt              21525 non-null  int64  \n",
      " 10  total_income      19351 non-null  float64\n",
      " 11  purpose           21525 non-null  object \n",
      "dtypes: float64(2), int64(5), object(5)\n",
      "memory usage: 2.0+ MB\n"
     ]
    }
   ],
   "source": [
    "import pandas as pd\n",
    "df = pd.read_csv('/datasets/data.csv')\n",
    "df.info()"
   ]
  },
  {
   "cell_type": "code",
   "execution_count": 28,
   "metadata": {},
   "outputs": [
    {
     "data": {
      "text/html": [
       "<div>\n",
       "<style scoped>\n",
       "    .dataframe tbody tr th:only-of-type {\n",
       "        vertical-align: middle;\n",
       "    }\n",
       "\n",
       "    .dataframe tbody tr th {\n",
       "        vertical-align: top;\n",
       "    }\n",
       "\n",
       "    .dataframe thead th {\n",
       "        text-align: right;\n",
       "    }\n",
       "</style>\n",
       "<table border=\"1\" class=\"dataframe\">\n",
       "  <thead>\n",
       "    <tr style=\"text-align: right;\">\n",
       "      <th></th>\n",
       "      <th>children</th>\n",
       "      <th>days_employed</th>\n",
       "      <th>dob_years</th>\n",
       "      <th>education</th>\n",
       "      <th>education_id</th>\n",
       "      <th>family_status</th>\n",
       "      <th>family_status_id</th>\n",
       "      <th>gender</th>\n",
       "      <th>income_type</th>\n",
       "      <th>debt</th>\n",
       "      <th>total_income</th>\n",
       "      <th>purpose</th>\n",
       "    </tr>\n",
       "  </thead>\n",
       "  <tbody>\n",
       "    <tr>\n",
       "      <th>0</th>\n",
       "      <td>1</td>\n",
       "      <td>-8437.673028</td>\n",
       "      <td>42</td>\n",
       "      <td>высшее</td>\n",
       "      <td>0</td>\n",
       "      <td>женат / замужем</td>\n",
       "      <td>0</td>\n",
       "      <td>F</td>\n",
       "      <td>сотрудник</td>\n",
       "      <td>0</td>\n",
       "      <td>253875.639453</td>\n",
       "      <td>покупка жилья</td>\n",
       "    </tr>\n",
       "    <tr>\n",
       "      <th>1</th>\n",
       "      <td>1</td>\n",
       "      <td>-4024.803754</td>\n",
       "      <td>36</td>\n",
       "      <td>среднее</td>\n",
       "      <td>1</td>\n",
       "      <td>женат / замужем</td>\n",
       "      <td>0</td>\n",
       "      <td>F</td>\n",
       "      <td>сотрудник</td>\n",
       "      <td>0</td>\n",
       "      <td>112080.014102</td>\n",
       "      <td>приобретение автомобиля</td>\n",
       "    </tr>\n",
       "    <tr>\n",
       "      <th>2</th>\n",
       "      <td>0</td>\n",
       "      <td>-5623.422610</td>\n",
       "      <td>33</td>\n",
       "      <td>Среднее</td>\n",
       "      <td>1</td>\n",
       "      <td>женат / замужем</td>\n",
       "      <td>0</td>\n",
       "      <td>M</td>\n",
       "      <td>сотрудник</td>\n",
       "      <td>0</td>\n",
       "      <td>145885.952297</td>\n",
       "      <td>покупка жилья</td>\n",
       "    </tr>\n",
       "    <tr>\n",
       "      <th>3</th>\n",
       "      <td>3</td>\n",
       "      <td>-4124.747207</td>\n",
       "      <td>32</td>\n",
       "      <td>среднее</td>\n",
       "      <td>1</td>\n",
       "      <td>женат / замужем</td>\n",
       "      <td>0</td>\n",
       "      <td>M</td>\n",
       "      <td>сотрудник</td>\n",
       "      <td>0</td>\n",
       "      <td>267628.550329</td>\n",
       "      <td>дополнительное образование</td>\n",
       "    </tr>\n",
       "    <tr>\n",
       "      <th>4</th>\n",
       "      <td>0</td>\n",
       "      <td>340266.072047</td>\n",
       "      <td>53</td>\n",
       "      <td>среднее</td>\n",
       "      <td>1</td>\n",
       "      <td>гражданский брак</td>\n",
       "      <td>1</td>\n",
       "      <td>F</td>\n",
       "      <td>пенсионер</td>\n",
       "      <td>0</td>\n",
       "      <td>158616.077870</td>\n",
       "      <td>сыграть свадьбу</td>\n",
       "    </tr>\n",
       "  </tbody>\n",
       "</table>\n",
       "</div>"
      ],
      "text/plain": [
       "   children  days_employed  dob_years education  education_id  \\\n",
       "0         1   -8437.673028         42    высшее             0   \n",
       "1         1   -4024.803754         36   среднее             1   \n",
       "2         0   -5623.422610         33   Среднее             1   \n",
       "3         3   -4124.747207         32   среднее             1   \n",
       "4         0  340266.072047         53   среднее             1   \n",
       "\n",
       "      family_status  family_status_id gender income_type  debt   total_income  \\\n",
       "0   женат / замужем                 0      F   сотрудник     0  253875.639453   \n",
       "1   женат / замужем                 0      F   сотрудник     0  112080.014102   \n",
       "2   женат / замужем                 0      M   сотрудник     0  145885.952297   \n",
       "3   женат / замужем                 0      M   сотрудник     0  267628.550329   \n",
       "4  гражданский брак                 1      F   пенсионер     0  158616.077870   \n",
       "\n",
       "                      purpose  \n",
       "0               покупка жилья  \n",
       "1     приобретение автомобиля  \n",
       "2               покупка жилья  \n",
       "3  дополнительное образование  \n",
       "4             сыграть свадьбу  "
      ]
     },
     "execution_count": 28,
     "metadata": {},
     "output_type": "execute_result"
    }
   ],
   "source": [
    "df.head()"
   ]
  },
  {
   "cell_type": "markdown",
   "metadata": {},
   "source": [
    "### Вывод"
   ]
  },
  {
   "cell_type": "markdown",
   "metadata": {},
   "source": [
    "Как видно из таблицы, у нас есть 2 проблемных столбца: \"days_employed\" и \"total_income\" в которых пропущены данные и тип данных не соотвествует действительности. Для расчетов нам понадобиться только столбец \"total_income\", поэтому и начнем его изменять."
   ]
  },
  {
   "cell_type": "markdown",
   "metadata": {},
   "source": [
    "# <a id=\"section2\">1.2 Нахождение и ликвидация пропусков</a>"
   ]
  },
  {
   "cell_type": "code",
   "execution_count": 29,
   "metadata": {},
   "outputs": [
    {
     "name": "stdout",
     "output_type": "stream",
     "text": [
      "children            0.000000\n",
      "days_employed       0.100999\n",
      "dob_years           0.000000\n",
      "education           0.000000\n",
      "education_id        0.000000\n",
      "family_status       0.000000\n",
      "family_status_id    0.000000\n",
      "gender              0.000000\n",
      "income_type         0.000000\n",
      "debt                0.000000\n",
      "total_income        0.100999\n",
      "purpose             0.000000\n",
      "dtype: float64\n"
     ]
    }
   ],
   "source": [
    "print(df.isna().mean())"
   ]
  },
  {
   "cell_type": "code",
   "execution_count": 30,
   "metadata": {},
   "outputs": [],
   "source": [
    "for x in df['income_type'].unique():\n",
    "    df.loc[(df['income_type'] == x) & (df['total_income'].isnull()), 'total_income']\\\n",
    "    = df.loc[df['income_type'] == x, 'total_income'].median()\n"
   ]
  },
  {
   "cell_type": "code",
   "execution_count": 31,
   "metadata": {},
   "outputs": [
    {
     "name": "stdout",
     "output_type": "stream",
     "text": [
      "<class 'pandas.core.frame.DataFrame'>\n",
      "RangeIndex: 21525 entries, 0 to 21524\n",
      "Data columns (total 12 columns):\n",
      " #   Column            Non-Null Count  Dtype  \n",
      "---  ------            --------------  -----  \n",
      " 0   children          21525 non-null  int64  \n",
      " 1   days_employed     19351 non-null  float64\n",
      " 2   dob_years         21525 non-null  int64  \n",
      " 3   education         21525 non-null  object \n",
      " 4   education_id      21525 non-null  int64  \n",
      " 5   family_status     21525 non-null  object \n",
      " 6   family_status_id  21525 non-null  int64  \n",
      " 7   gender            21525 non-null  object \n",
      " 8   income_type       21525 non-null  object \n",
      " 9   debt              21525 non-null  int64  \n",
      " 10  total_income      21525 non-null  float64\n",
      " 11  purpose           21525 non-null  object \n",
      "dtypes: float64(2), int64(5), object(5)\n",
      "memory usage: 2.0+ MB\n"
     ]
    }
   ],
   "source": [
    "df.info()"
   ]
  },
  {
   "cell_type": "markdown",
   "metadata": {},
   "source": [
    "### Вывод"
   ]
  },
  {
   "cell_type": "markdown",
   "metadata": {},
   "source": [
    "Для заполнения пропущенных значений в строке общего дохода, мы посчитали медианные значения дохода по типам занятости, и заполнили ими пропуски. Медианый доход предпочти среднему доходу, чтобы исключить влияние на данные запредельных показателей."
   ]
  },
  {
   "cell_type": "markdown",
   "metadata": {},
   "source": [
    "# <a id='section3'>2.1 Приведение данных к нужным типам<a/>"
   ]
  },
  {
   "cell_type": "code",
   "execution_count": 32,
   "metadata": {},
   "outputs": [
    {
     "name": "stdout",
     "output_type": "stream",
     "text": [
      "<class 'pandas.core.frame.DataFrame'>\n",
      "RangeIndex: 21525 entries, 0 to 21524\n",
      "Data columns (total 12 columns):\n",
      " #   Column            Non-Null Count  Dtype  \n",
      "---  ------            --------------  -----  \n",
      " 0   children          21525 non-null  int64  \n",
      " 1   days_employed     19351 non-null  float64\n",
      " 2   dob_years         21525 non-null  int64  \n",
      " 3   education         21525 non-null  object \n",
      " 4   education_id      21525 non-null  int64  \n",
      " 5   family_status     21525 non-null  object \n",
      " 6   family_status_id  21525 non-null  int64  \n",
      " 7   gender            21525 non-null  object \n",
      " 8   income_type       21525 non-null  object \n",
      " 9   debt              21525 non-null  int64  \n",
      " 10  total_income      21525 non-null  float64\n",
      " 11  purpose           21525 non-null  object \n",
      "dtypes: float64(2), int64(5), object(5)\n",
      "memory usage: 2.0+ MB\n"
     ]
    }
   ],
   "source": [
    "df.info()"
   ]
  },
  {
   "cell_type": "code",
   "execution_count": 33,
   "metadata": {},
   "outputs": [],
   "source": [
    "df['total_income'] = df['total_income'].astype('int')"
   ]
  },
  {
   "cell_type": "code",
   "execution_count": 34,
   "metadata": {},
   "outputs": [
    {
     "name": "stdout",
     "output_type": "stream",
     "text": [
      "<class 'pandas.core.frame.DataFrame'>\n",
      "RangeIndex: 21525 entries, 0 to 21524\n",
      "Data columns (total 12 columns):\n",
      " #   Column            Non-Null Count  Dtype  \n",
      "---  ------            --------------  -----  \n",
      " 0   children          21525 non-null  int64  \n",
      " 1   days_employed     19351 non-null  float64\n",
      " 2   dob_years         21525 non-null  int64  \n",
      " 3   education         21525 non-null  object \n",
      " 4   education_id      21525 non-null  int64  \n",
      " 5   family_status     21525 non-null  object \n",
      " 6   family_status_id  21525 non-null  int64  \n",
      " 7   gender            21525 non-null  object \n",
      " 8   income_type       21525 non-null  object \n",
      " 9   debt              21525 non-null  int64  \n",
      " 10  total_income      21525 non-null  int64  \n",
      " 11  purpose           21525 non-null  object \n",
      "dtypes: float64(1), int64(6), object(5)\n",
      "memory usage: 2.0+ MB\n"
     ]
    }
   ],
   "source": [
    "df.info()"
   ]
  },
  {
   "cell_type": "markdown",
   "metadata": {},
   "source": [
    "### Вывод"
   ]
  },
  {
   "cell_type": "markdown",
   "metadata": {},
   "source": [
    "Воспользовавшись методом \"astype\", преобразовали столбец с общим доходом к целочисленному типу данных."
   ]
  },
  {
   "cell_type": "markdown",
   "metadata": {},
   "source": [
    "# <a id='section4'>2.2 Нахождение и исправление аномалий и ошибок</a>"
   ]
  },
  {
   "cell_type": "code",
   "execution_count": 35,
   "metadata": {},
   "outputs": [
    {
     "name": "stdout",
     "output_type": "stream",
     "text": [
      " 0     14149\n",
      " 1      4818\n",
      " 2      2055\n",
      " 3       330\n",
      " 20       76\n",
      "-1        47\n",
      " 4        41\n",
      " 5         9\n",
      "Name: children, dtype: int64\n"
     ]
    }
   ],
   "source": [
    "print(df['children'].value_counts())"
   ]
  },
  {
   "cell_type": "code",
   "execution_count": 36,
   "metadata": {},
   "outputs": [
    {
     "name": "stdout",
     "output_type": "stream",
     "text": [
      "0    14196\n",
      "1     4818\n",
      "2     2131\n",
      "3      330\n",
      "4       41\n",
      "5        9\n",
      "Name: children, dtype: int64\n"
     ]
    }
   ],
   "source": [
    "# как видим в таблице есть артефакты значений в графе дети, примем -1 как бездетных, а 20 как ошибку при вводе '2'\n",
    "df.loc[df['children'] == -1, 'children'] = 0\n",
    "df.loc[df['children'] == 20, 'children'] = 2\n",
    "print(df['children'].value_counts())"
   ]
  },
  {
   "cell_type": "markdown",
   "metadata": {},
   "source": [
    "# <a id='section5'>2.3 Поиск и обработка дубликатов</a>"
   ]
  },
  {
   "cell_type": "code",
   "execution_count": 37,
   "metadata": {},
   "outputs": [
    {
     "data": {
      "text/plain": [
       "среднее                13750\n",
       "высшее                  4718\n",
       "СРЕДНЕЕ                  772\n",
       "Среднее                  711\n",
       "неоконченное высшее      668\n",
       "ВЫСШЕЕ                   274\n",
       "Высшее                   268\n",
       "начальное                250\n",
       "Неоконченное высшее       47\n",
       "НЕОКОНЧЕННОЕ ВЫСШЕЕ       29\n",
       "НАЧАЛЬНОЕ                 17\n",
       "Начальное                 15\n",
       "ученая степень             4\n",
       "УЧЕНАЯ СТЕПЕНЬ             1\n",
       "Ученая степень             1\n",
       "Name: education, dtype: int64"
      ]
     },
     "execution_count": 37,
     "metadata": {},
     "output_type": "execute_result"
    }
   ],
   "source": [
    "#посмотрим количество уникальных значений в столбце \"образование\"\n",
    "df['education'].value_counts()"
   ]
  },
  {
   "cell_type": "code",
   "execution_count": 38,
   "metadata": {},
   "outputs": [],
   "source": [
    "#из-за использования заглавных букв в названиях образовались дубликаты значений\n",
    "#приведем все названия к нижнему регистру\n",
    "df['education'] = df['education'].str.lower()"
   ]
  },
  {
   "cell_type": "code",
   "execution_count": 39,
   "metadata": {
    "scrolled": true
   },
   "outputs": [
    {
     "data": {
      "text/plain": [
       "среднее                15233\n",
       "высшее                  5260\n",
       "неоконченное высшее      744\n",
       "начальное                282\n",
       "ученая степень             6\n",
       "Name: education, dtype: int64"
      ]
     },
     "execution_count": 39,
     "metadata": {},
     "output_type": "execute_result"
    }
   ],
   "source": [
    "df['education'].value_counts()"
   ]
  },
  {
   "cell_type": "markdown",
   "metadata": {},
   "source": [
    "### Вывод"
   ]
  },
  {
   "cell_type": "markdown",
   "metadata": {},
   "source": [
    "Удалив дубликаты в столбце \"образование\" мы теперь явно видим зависимость, заемщики со средним образованием в 3 раза чаще берут кредит, по сравнению с заемщиками закончившими ВУЗы. Также можем отметить, что всего чуть больше 1% заемщиков имеют начальное образование, что говорит о общей уровне образованности у клиентов банка."
   ]
  },
  {
   "cell_type": "markdown",
   "metadata": {},
   "source": [
    "# <a id='section6'>3.1 Лемматизация</a>"
   ]
  },
  {
   "cell_type": "code",
   "execution_count": 40,
   "metadata": {},
   "outputs": [
    {
     "data": {
      "text/plain": [
       "Counter({'покупка': 5912,\n",
       "         ' ': 55201,\n",
       "         'жилье': 4473,\n",
       "         'приобретение': 462,\n",
       "         'автомобиль': 4315,\n",
       "         'дополнительный': 909,\n",
       "         'образование': 4022,\n",
       "         'сыграть': 774,\n",
       "         'свадьба': 2348,\n",
       "         'операция': 2610,\n",
       "         'с': 2924,\n",
       "         'на': 2233,\n",
       "         'проведение': 777,\n",
       "         'для': 1294,\n",
       "         'семья': 641,\n",
       "         'недвижимость': 6367,\n",
       "         'коммерческий': 1315,\n",
       "         'жилой': 1233,\n",
       "         'строительство': 1881,\n",
       "         'собственный': 635,\n",
       "         'подержать': 858,\n",
       "         'свой': 2235,\n",
       "         'со': 630,\n",
       "         'заниматься': 908,\n",
       "         'сделка': 944,\n",
       "         'получение': 1316,\n",
       "         'высокий': 1375,\n",
       "         'подержанный': 110,\n",
       "         'профильный': 436,\n",
       "         'сдача': 653,\n",
       "         'ремонт': 612,\n",
       "         '\\n': 1})"
      ]
     },
     "execution_count": 40,
     "metadata": {},
     "output_type": "execute_result"
    }
   ],
   "source": [
    "# проводим лемматизацию значений столбца с целями кредита\n",
    "# для наглядности результат склеим методом join()\n",
    "# с помощью  контейнера Counter подсчитаем частоту упоминаний слов в тексте\n",
    "from pymystem3 import Mystem\n",
    "from collections import Counter\n",
    "m = Mystem()\n",
    "Counter(m.lemmatize(' '.join(df['purpose'])))"
   ]
  },
  {
   "cell_type": "code",
   "execution_count": 41,
   "metadata": {},
   "outputs": [
    {
     "name": "stdout",
     "output_type": "stream",
     "text": [
      "недвижимость    10840\n",
      "автомобиль       4315\n",
      "образование      4022\n",
      "свадьба          2348\n",
      "Name: main_purpose, dtype: int64\n"
     ]
    }
   ],
   "source": [
    "df['lemmas'] = df['purpose'].apply(m.lemmatize)\n",
    "def main_purpose(row):\n",
    "    # функция преобразует цели кредита в более общие благодаря найденным лемам\n",
    "        if 'недвижимость' in row or 'жилье' in row:\n",
    "            return 'недвижимость'\n",
    "        if 'автомобиль' in row:\n",
    "            return 'автомобиль' \n",
    "        if 'свадьба' in row:\n",
    "            return 'свадьба'\n",
    "        if 'образование' in row:\n",
    "            return 'образование'\n",
    "        return 'другое'    \n",
    "df['main_purpose'] = df['lemmas'].apply(main_purpose)\n",
    "print(df['main_purpose'].value_counts())"
   ]
  },
  {
   "cell_type": "markdown",
   "metadata": {},
   "source": [
    "### Вывод"
   ]
  },
  {
   "cell_type": "markdown",
   "metadata": {},
   "source": [
    "Приведение целей кредита к общей форме позволило определиться с самыми популярными причина для получения кредита: 40% всех кредитов выдано на недвижимость, затем идут приорбетение автомобиля и получения образования, а также набирающая популярность цель: на свадьбу."
   ]
  },
  {
   "cell_type": "markdown",
   "metadata": {},
   "source": [
    "# <a id='section7'>3.2 Классификация по возрастным группам</a>"
   ]
  },
  {
   "cell_type": "code",
   "execution_count": 42,
   "metadata": {},
   "outputs": [
    {
     "name": "stdout",
     "output_type": "stream",
     "text": [
      "35    617\n",
      "40    609\n",
      "41    607\n",
      "34    603\n",
      "38    598\n",
      "42    597\n",
      "33    581\n",
      "39    573\n",
      "31    560\n",
      "36    555\n",
      "44    547\n",
      "29    545\n",
      "30    540\n",
      "48    538\n",
      "37    537\n",
      "50    514\n",
      "43    513\n",
      "32    510\n",
      "49    508\n",
      "28    503\n",
      "45    497\n",
      "27    493\n",
      "56    487\n",
      "52    484\n",
      "47    480\n",
      "54    479\n",
      "46    475\n",
      "58    461\n",
      "57    460\n",
      "53    459\n",
      "51    448\n",
      "59    444\n",
      "55    443\n",
      "26    408\n",
      "60    377\n",
      "25    357\n",
      "61    355\n",
      "62    352\n",
      "63    269\n",
      "64    265\n",
      "24    264\n",
      "23    254\n",
      "65    194\n",
      "66    183\n",
      "22    183\n",
      "67    167\n",
      "21    111\n",
      "0     101\n",
      "68     99\n",
      "69     85\n",
      "70     65\n",
      "71     58\n",
      "20     51\n",
      "72     33\n",
      "19     14\n",
      "73      8\n",
      "74      6\n",
      "75      1\n",
      "Name: dob_years, dtype: int64\n"
     ]
    }
   ],
   "source": [
    "# распределим заемщиков по возрастным категориям\n",
    "# сначала посмотрим разнообразие возрастных значений \n",
    "print(df['dob_years'].value_counts())"
   ]
  },
  {
   "cell_type": "code",
   "execution_count": 43,
   "metadata": {},
   "outputs": [],
   "source": [
    "def age_group(age):\n",
    "    # до 31 года у нас будет молодёжь, с 31 до 60 - средний возраст, больше 60 лет - пенсионеры\n",
    "    # заметили большое количество строк с 0 в учейке возраста, этих ззаемщиков не будем учитывать.\n",
    "    # функция вернет возрастную группу\n",
    "    if (age < 31) and (age != 0):\n",
    "        return 'молодёжь'\n",
    "    if 31 < age < 60:\n",
    "        return 'средний возраст'\n",
    "    if age > 60:\n",
    "        return 'пенсионеры'\n",
    "    return 'группа не определена'\n",
    "df['age_group'] = df['dob_years'].apply(age_group)\n",
    "    "
   ]
  },
  {
   "cell_type": "code",
   "execution_count": 44,
   "metadata": {},
   "outputs": [
    {
     "name": "stdout",
     "output_type": "stream",
     "text": [
      "средний возраст         14624\n",
      "молодёжь                 3723\n",
      "пенсионеры               2140\n",
      "группа не определена     1038\n",
      "Name: age_group, dtype: int64\n"
     ]
    }
   ],
   "source": [
    "#выводим статистику по возрастной группе\n",
    "print(df['age_group'].value_counts())"
   ]
  },
  {
   "cell_type": "markdown",
   "metadata": {},
   "source": [
    "# <a id='section8'>3.2 Классификация по доходу</a>"
   ]
  },
  {
   "cell_type": "code",
   "execution_count": 45,
   "metadata": {},
   "outputs": [
    {
     "name": "stdout",
     "output_type": "stream",
     "text": [
      "высокий доход    17062\n",
      "средний доход     4441\n",
      "низкий доход        22\n",
      "Name: income_group, dtype: int64\n"
     ]
    }
   ],
   "source": [
    "def income_group(income):\n",
    "    # функция распределить заемщиков на категории в соответсвии с общим доходом\n",
    "    # до 30 000 - низкий доход\n",
    "    # от 30 000 до 100 000 - средний доход\n",
    "    # выше 100 000 высокий доход\n",
    "    if income < 30000:\n",
    "        return 'низкий доход'\n",
    "    if 30000 < income < 100000:\n",
    "        return 'средний доход'\n",
    "    if income > 100000:\n",
    "        return 'высокий доход'\n",
    "    return 'группа не определена'\n",
    "df['income_group'] = df['total_income'].apply(income_group)\n",
    "print(df['income_group'].value_counts())"
   ]
  },
  {
   "cell_type": "markdown",
   "metadata": {},
   "source": [
    "### Вывод"
   ]
  },
  {
   "cell_type": "markdown",
   "metadata": {},
   "source": [
    "Категоризация данных позволила узнать, что более половины заемщиков банка люди среднего возраста, а молодежь и пенсионеры составляют не такую значимую часть в общей доле кредитного портфеля. Также мы распределили заемщиков по их общему доходу и увидели, что практически не имеем в базе заемщиков с низким доходом, а даже наоборот, заемщики с доходом более 100 000 в месяц составляют 2/3 от общего количества. Это говорит о том, что кредиты имеют популярность у вполне состоятельных граждан."
   ]
  },
  {
   "cell_type": "markdown",
   "metadata": {},
   "source": [
    "# <a id=section9>4.1 Ответы на вопросы</a>"
   ]
  },
  {
   "cell_type": "markdown",
   "metadata": {},
   "source": [
    "- Есть ли зависимость между наличием детей и возвратом кредита в срок?"
   ]
  },
  {
   "cell_type": "code",
   "execution_count": 46,
   "metadata": {},
   "outputs": [
    {
     "name": "stdout",
     "output_type": "stream",
     "text": [
      "0    14196\n",
      "1     4818\n",
      "2     2131\n",
      "3      330\n",
      "4       41\n",
      "5        9\n",
      "Name: children, dtype: int64\n"
     ]
    }
   ],
   "source": [
    "print(df['children'].value_counts())"
   ]
  },
  {
   "cell_type": "code",
   "execution_count": 47,
   "metadata": {
    "scrolled": true
   },
   "outputs": [
    {
     "name": "stdout",
     "output_type": "stream",
     "text": [
      "children\n",
      "0    0.074951\n",
      "1    0.092154\n",
      "2    0.094791\n",
      "3    0.081818\n",
      "4    0.097561\n",
      "5    0.000000\n",
      "Name: debt, dtype: float64\n"
     ]
    }
   ],
   "source": [
    "print(df.groupby('children')['debt'].mean())"
   ]
  },
  {
   "cell_type": "code",
   "execution_count": 48,
   "metadata": {},
   "outputs": [
    {
     "name": "stdout",
     "output_type": "stream",
     "text": [
      "children_id\n",
      "0    0.074951\n",
      "1    0.092373\n",
      "Name: debt, dtype: float64\n"
     ]
    }
   ],
   "source": [
    "def children_id(children):\n",
    "    # функция присвоит id заемщикам \n",
    "    # 1 - есть дети\n",
    "    # 0 - нет детей\n",
    "    if children > 0:\n",
    "        return 1\n",
    "    return 0\n",
    "df['children_id'] = df['children'].apply(children_id)\n",
    "print(df.groupby('children_id')['debt'].mean())"
   ]
  },
  {
   "cell_type": "markdown",
   "metadata": {},
   "source": [
    "# Вывод"
   ]
  },
  {
   "cell_type": "markdown",
   "metadata": {},
   "source": [
    "Как мы можем видеть: бездетные заемщики немного реже допускают просрочки по кредитам. Также стоит отметить, что если у семьи есть дети, то их количество не влияет на возратность кредита, все примерно с одинаковой частотой допускают просрочки. Отдельно выбиваются из общей массы заемщики с 5 детьми и отсутствием задолженностей, но их настолько мало в выборке, что этим показателем можно принебречь."
   ]
  },
  {
   "cell_type": "markdown",
   "metadata": {},
   "source": [
    "- Есть ли зависимость между семейным положением и возвратом кредита в срок?"
   ]
  },
  {
   "cell_type": "code",
   "execution_count": 49,
   "metadata": {},
   "outputs": [
    {
     "name": "stdout",
     "output_type": "stream",
     "text": [
      "family_status\n",
      "Не женат / не замужем    0.097405\n",
      "в разводе                0.071130\n",
      "вдовец / вдова           0.065625\n",
      "гражданский брак         0.092890\n",
      "женат / замужем          0.075202\n",
      "Name: debt, dtype: float64\n"
     ]
    }
   ],
   "source": [
    "print(df.groupby('family_status')['debt'].mean())"
   ]
  },
  {
   "cell_type": "markdown",
   "metadata": {},
   "source": [
    "### Вывод"
   ]
  },
  {
   "cell_type": "markdown",
   "metadata": {},
   "source": [
    "Расчеты показали, что неженатые\\незамужние, а также лица состоящие в гражданском браке в процентном соотношении чаще допускают задолженности по кредитам, из этого можно сделать вывод, что наиболее надежные заемщики семейные, либо побывавшие в семейных отношениях."
   ]
  },
  {
   "cell_type": "markdown",
   "metadata": {},
   "source": [
    "- Есть ли зависимость между уровнем дохода и возвратом кредита в срок?"
   ]
  },
  {
   "cell_type": "code",
   "execution_count": 50,
   "metadata": {},
   "outputs": [
    {
     "name": "stdout",
     "output_type": "stream",
     "text": [
      "income_group\n",
      "высокий доход    0.081292\n",
      "низкий доход     0.090909\n",
      "средний доход    0.079261\n",
      "Name: debt, dtype: float64\n"
     ]
    }
   ],
   "source": [
    "print(df.groupby('income_group')['debt'].mean())"
   ]
  },
  {
   "cell_type": "markdown",
   "metadata": {},
   "source": [
    "### Вывод"
   ]
  },
  {
   "cell_type": "markdown",
   "metadata": {},
   "source": [
    "Низкий доход немного влияет в худшую сторону на возврат кредита в срок, но не так значительно, как мы могли предполагать до расчетов."
   ]
  },
  {
   "cell_type": "markdown",
   "metadata": {},
   "source": [
    "- Как разные цели кредита влияют на его возврат в срок?"
   ]
  },
  {
   "cell_type": "code",
   "execution_count": 51,
   "metadata": {},
   "outputs": [
    {
     "name": "stdout",
     "output_type": "stream",
     "text": [
      "main_purpose\n",
      "автомобиль      0.093395\n",
      "недвижимость    0.072140\n",
      "образование     0.091994\n",
      "свадьба         0.079216\n",
      "Name: debt, dtype: float64\n"
     ]
    }
   ],
   "source": [
    "print(df.groupby('main_purpose')['debt'].mean())"
   ]
  },
  {
   "cell_type": "markdown",
   "metadata": {},
   "source": [
    "### Вывод"
   ]
  },
  {
   "cell_type": "markdown",
   "metadata": {},
   "source": [
    "Если смотреть по целям кредита, то тут уже заметная разница: по кредитам на автомобиль и образование чаще допускают просрочки. Кредиты на недвижмость хоть и являются наиболее крупными, но и заемщики, как показывают расчеты, относятся к ним более серьезно. "
   ]
  },
  {
   "cell_type": "code",
   "execution_count": 52,
   "metadata": {},
   "outputs": [
    {
     "data": {
      "text/html": [
       "<style  type=\"text/css\" >\n",
       "    #T_84fa6228_c774_11ea_9d4f_02420a3922dcrow0_col0 {\n",
       "            background-color:  #b2ccfb;\n",
       "            color:  #000000;\n",
       "        }    #T_84fa6228_c774_11ea_9d4f_02420a3922dcrow0_col1 {\n",
       "            background-color:  #afcafc;\n",
       "            color:  #000000;\n",
       "        }    #T_84fa6228_c774_11ea_9d4f_02420a3922dcrow0_col2 {\n",
       "            background-color:  #d4dbe6;\n",
       "            color:  #000000;\n",
       "        }    #T_84fa6228_c774_11ea_9d4f_02420a3922dcrow0_col3 {\n",
       "            background-color:  #5d7ce6;\n",
       "            color:  #000000;\n",
       "        }    #T_84fa6228_c774_11ea_9d4f_02420a3922dcrow0_col4 {\n",
       "            background-color:  #aac7fd;\n",
       "            color:  #000000;\n",
       "        }    #T_84fa6228_c774_11ea_9d4f_02420a3922dcrow0_col5 {\n",
       "            background-color:  #3b4cc0;\n",
       "            color:  #f1f1f1;\n",
       "        }    #T_84fa6228_c774_11ea_9d4f_02420a3922dcrow1_col0 {\n",
       "            background-color:  #b40426;\n",
       "            color:  #f1f1f1;\n",
       "        }    #T_84fa6228_c774_11ea_9d4f_02420a3922dcrow1_col1 {\n",
       "            background-color:  #b40426;\n",
       "            color:  #f1f1f1;\n",
       "        }    #T_84fa6228_c774_11ea_9d4f_02420a3922dcrow1_col2 {\n",
       "            background-color:  #b40426;\n",
       "            color:  #f1f1f1;\n",
       "        }    #T_84fa6228_c774_11ea_9d4f_02420a3922dcrow1_col3 {\n",
       "            background-color:  #b40426;\n",
       "            color:  #f1f1f1;\n",
       "        }    #T_84fa6228_c774_11ea_9d4f_02420a3922dcrow1_col4 {\n",
       "            background-color:  #b40426;\n",
       "            color:  #f1f1f1;\n",
       "        }    #T_84fa6228_c774_11ea_9d4f_02420a3922dcrow1_col5 {\n",
       "            background-color:  #3b4cc0;\n",
       "            color:  #f1f1f1;\n",
       "        }    #T_84fa6228_c774_11ea_9d4f_02420a3922dcrow2_col0 {\n",
       "            background-color:  #a3c2fe;\n",
       "            color:  #000000;\n",
       "        }    #T_84fa6228_c774_11ea_9d4f_02420a3922dcrow2_col1 {\n",
       "            background-color:  #92b4fe;\n",
       "            color:  #000000;\n",
       "        }    #T_84fa6228_c774_11ea_9d4f_02420a3922dcrow2_col2 {\n",
       "            background-color:  #c9d7f0;\n",
       "            color:  #000000;\n",
       "        }    #T_84fa6228_c774_11ea_9d4f_02420a3922dcrow2_col3 {\n",
       "            background-color:  #3b4cc0;\n",
       "            color:  #f1f1f1;\n",
       "        }    #T_84fa6228_c774_11ea_9d4f_02420a3922dcrow2_col4 {\n",
       "            background-color:  #3b4cc0;\n",
       "            color:  #f1f1f1;\n",
       "        }    #T_84fa6228_c774_11ea_9d4f_02420a3922dcrow2_col5 {\n",
       "            background-color:  #3b4cc0;\n",
       "            color:  #f1f1f1;\n",
       "        }    #T_84fa6228_c774_11ea_9d4f_02420a3922dcrow3_col0 {\n",
       "            background-color:  #3b4cc0;\n",
       "            color:  #f1f1f1;\n",
       "        }    #T_84fa6228_c774_11ea_9d4f_02420a3922dcrow3_col1 {\n",
       "            background-color:  #3b4cc0;\n",
       "            color:  #f1f1f1;\n",
       "        }    #T_84fa6228_c774_11ea_9d4f_02420a3922dcrow3_col2 {\n",
       "            background-color:  #3b4cc0;\n",
       "            color:  #f1f1f1;\n",
       "        }    #T_84fa6228_c774_11ea_9d4f_02420a3922dcrow3_col3 {\n",
       "            background-color:  #5d7ce6;\n",
       "            color:  #000000;\n",
       "        }    #T_84fa6228_c774_11ea_9d4f_02420a3922dcrow3_col4 {\n",
       "            background-color:  #3b4cc0;\n",
       "            color:  #f1f1f1;\n",
       "        }    #T_84fa6228_c774_11ea_9d4f_02420a3922dcrow3_col5 {\n",
       "            background-color:  #3b4cc0;\n",
       "            color:  #f1f1f1;\n",
       "        }</style><table id=\"T_84fa6228_c774_11ea_9d4f_02420a3922dc\" ><thead>    <tr>        <th class=\"blank level0\" ></th>        <th class=\"col_heading level0 col0\" colspan=6>sum</th>    </tr>    <tr>        <th class=\"index_name level1\" >children</th>        <th class=\"col_heading level1 col0\" >0</th>        <th class=\"col_heading level1 col1\" >1</th>        <th class=\"col_heading level1 col2\" >2</th>        <th class=\"col_heading level1 col3\" >3</th>        <th class=\"col_heading level1 col4\" >4</th>        <th class=\"col_heading level1 col5\" >5</th>    </tr>    <tr>        <th class=\"index_name level0\" >main_purpose</th>        <th class=\"blank\" ></th>        <th class=\"blank\" ></th>        <th class=\"blank\" ></th>        <th class=\"blank\" ></th>        <th class=\"blank\" ></th>        <th class=\"blank\" ></th>    </tr></thead><tbody>\n",
       "                <tr>\n",
       "                        <th id=\"T_84fa6228_c774_11ea_9d4f_02420a3922dclevel0_row0\" class=\"row_heading level0 row0\" >автомобиль</th>\n",
       "                        <td id=\"T_84fa6228_c774_11ea_9d4f_02420a3922dcrow0_col0\" class=\"data row0 col0\" >244</td>\n",
       "                        <td id=\"T_84fa6228_c774_11ea_9d4f_02420a3922dcrow0_col1\" class=\"data row0 col1\" >103</td>\n",
       "                        <td id=\"T_84fa6228_c774_11ea_9d4f_02420a3922dcrow0_col2\" class=\"data row0 col2\" >50</td>\n",
       "                        <td id=\"T_84fa6228_c774_11ea_9d4f_02420a3922dcrow0_col3\" class=\"data row0 col3\" >5</td>\n",
       "                        <td id=\"T_84fa6228_c774_11ea_9d4f_02420a3922dcrow0_col4\" class=\"data row0 col4\" >1</td>\n",
       "                        <td id=\"T_84fa6228_c774_11ea_9d4f_02420a3922dcrow0_col5\" class=\"data row0 col5\" >0</td>\n",
       "            </tr>\n",
       "            <tr>\n",
       "                        <th id=\"T_84fa6228_c774_11ea_9d4f_02420a3922dclevel0_row1\" class=\"row_heading level0 row1\" >недвижимость</th>\n",
       "                        <td id=\"T_84fa6228_c774_11ea_9d4f_02420a3922dcrow1_col0\" class=\"data row1 col0\" >476</td>\n",
       "                        <td id=\"T_84fa6228_c774_11ea_9d4f_02420a3922dcrow1_col1\" class=\"data row1 col1\" >200</td>\n",
       "                        <td id=\"T_84fa6228_c774_11ea_9d4f_02420a3922dcrow1_col2\" class=\"data row1 col2\" >90</td>\n",
       "                        <td id=\"T_84fa6228_c774_11ea_9d4f_02420a3922dcrow1_col3\" class=\"data row1 col3\" >13</td>\n",
       "                        <td id=\"T_84fa6228_c774_11ea_9d4f_02420a3922dcrow1_col4\" class=\"data row1 col4\" >3</td>\n",
       "                        <td id=\"T_84fa6228_c774_11ea_9d4f_02420a3922dcrow1_col5\" class=\"data row1 col5\" >0</td>\n",
       "            </tr>\n",
       "            <tr>\n",
       "                        <th id=\"T_84fa6228_c774_11ea_9d4f_02420a3922dclevel0_row2\" class=\"row_heading level0 row2\" >образование</th>\n",
       "                        <td id=\"T_84fa6228_c774_11ea_9d4f_02420a3922dcrow2_col0\" class=\"data row2 col0\" >229</td>\n",
       "                        <td id=\"T_84fa6228_c774_11ea_9d4f_02420a3922dcrow2_col1\" class=\"data row2 col1\" >90</td>\n",
       "                        <td id=\"T_84fa6228_c774_11ea_9d4f_02420a3922dcrow2_col2\" class=\"data row2 col2\" >47</td>\n",
       "                        <td id=\"T_84fa6228_c774_11ea_9d4f_02420a3922dcrow2_col3\" class=\"data row2 col3\" >4</td>\n",
       "                        <td id=\"T_84fa6228_c774_11ea_9d4f_02420a3922dcrow2_col4\" class=\"data row2 col4\" >0</td>\n",
       "                        <td id=\"T_84fa6228_c774_11ea_9d4f_02420a3922dcrow2_col5\" class=\"data row2 col5\" >0</td>\n",
       "            </tr>\n",
       "            <tr>\n",
       "                        <th id=\"T_84fa6228_c774_11ea_9d4f_02420a3922dclevel0_row3\" class=\"row_heading level0 row3\" >свадьба</th>\n",
       "                        <td id=\"T_84fa6228_c774_11ea_9d4f_02420a3922dcrow3_col0\" class=\"data row3 col0\" >115</td>\n",
       "                        <td id=\"T_84fa6228_c774_11ea_9d4f_02420a3922dcrow3_col1\" class=\"data row3 col1\" >51</td>\n",
       "                        <td id=\"T_84fa6228_c774_11ea_9d4f_02420a3922dcrow3_col2\" class=\"data row3 col2\" >15</td>\n",
       "                        <td id=\"T_84fa6228_c774_11ea_9d4f_02420a3922dcrow3_col3\" class=\"data row3 col3\" >5</td>\n",
       "                        <td id=\"T_84fa6228_c774_11ea_9d4f_02420a3922dcrow3_col4\" class=\"data row3 col4\" >0</td>\n",
       "                        <td id=\"T_84fa6228_c774_11ea_9d4f_02420a3922dcrow3_col5\" class=\"data row3 col5\" >0</td>\n",
       "            </tr>\n",
       "    </tbody></table>"
      ],
      "text/plain": [
       "<pandas.io.formats.style.Styler at 0x7f3cc52d2490>"
      ]
     },
     "execution_count": 52,
     "metadata": {},
     "output_type": "execute_result"
    }
   ],
   "source": [
    "# код ревьювера\n",
    "purpose_category_grouped_1 = df.pivot_table(index = 'main_purpose', \n",
    "                                                   columns = 'children',\n",
    "                                                   values = 'debt', \n",
    "                                                   aggfunc = ['sum'])\n",
    "purpose_category_grouped_1.style.background_gradient('coolwarm')"
   ]
  },
  {
   "cell_type": "markdown",
   "metadata": {},
   "source": [
    "# <a id='section10'>4.1 Общий вывод</a>"
   ]
  },
  {
   "cell_type": "markdown",
   "metadata": {},
   "source": [
    "Проанализировав полученные данны в ходе проекта, мы можем предоставить общую картину для кредитного отдела банка. Главной задачей было разобраться с влиянием семейного положения и количества детей на погашение кредитам в срок. \n",
    "\n",
    "Теперь мы можем сделать однозначный вывод: ваш лучший заемщик - это человек, состоящий в браке\\разведенный и не имеющий детей. В идеале, если он берет кредит на недвижимость и имеет высокий доход. \n",
    "P.S. Отдельно хотелось бы отметить заемщиков с 5 детьми, которые не допустили ни одной просрочки по кредиту."
   ]
  }
 ],
 "metadata": {
  "kernelspec": {
   "display_name": "Python 3",
   "language": "python",
   "name": "python3"
  },
  "language_info": {
   "codemirror_mode": {
    "name": "ipython",
    "version": 3
   },
   "file_extension": ".py",
   "mimetype": "text/x-python",
   "name": "python",
   "nbconvert_exporter": "python",
   "pygments_lexer": "ipython3",
   "version": "3.7.6"
  }
 },
 "nbformat": 4,
 "nbformat_minor": 2
}
