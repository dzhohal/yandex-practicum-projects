{
 "cells": [
  {
   "cell_type": "markdown",
   "metadata": {},
   "source": [
    "## Исследование объявлений о продаже квартир в Санкт-Петербурге и соседних населённых пунктов за несколько лет.\n",
    "\n",
    "\n",
    "##### <a href='#section1'>1. Изучение общей информации.</a>\n",
    "\n",
    "##### <a href='#section2'>2. Предобработка данных.</a>\n",
    "\n",
    "##### <a href='#section5'>3. Проведение расчетов и добавление новых столбцов в таблицу.</a>\n",
    "\n",
    "##### <a href='#section6'>4. Исследовательский анализ данных.</a>\n",
    "\n",
    "##### <a href='#section7'>5. Общий вывод.</a>"
   ]
  },
  {
   "cell_type": "markdown",
   "metadata": {},
   "source": [
    "### <a id='section1'>1. Изучение общей информации</a>"
   ]
  },
  {
   "cell_type": "code",
   "execution_count": 353,
   "metadata": {},
   "outputs": [
    {
     "name": "stdout",
     "output_type": "stream",
     "text": [
      "False\n"
     ]
    },
    {
     "data": {
      "text/html": [
       "<div>\n",
       "<style scoped>\n",
       "    .dataframe tbody tr th:only-of-type {\n",
       "        vertical-align: middle;\n",
       "    }\n",
       "\n",
       "    .dataframe tbody tr th {\n",
       "        vertical-align: top;\n",
       "    }\n",
       "\n",
       "    .dataframe thead th {\n",
       "        text-align: right;\n",
       "    }\n",
       "</style>\n",
       "<table border=\"1\" class=\"dataframe\">\n",
       "  <thead>\n",
       "    <tr style=\"text-align: right;\">\n",
       "      <th></th>\n",
       "      <th>total_images</th>\n",
       "      <th>last_price</th>\n",
       "      <th>total_area</th>\n",
       "      <th>first_day_exposition</th>\n",
       "      <th>rooms</th>\n",
       "      <th>ceiling_height</th>\n",
       "      <th>floors_total</th>\n",
       "      <th>living_area</th>\n",
       "      <th>floor</th>\n",
       "      <th>is_apartment</th>\n",
       "      <th>...</th>\n",
       "      <th>kitchen_area</th>\n",
       "      <th>balcony</th>\n",
       "      <th>locality_name</th>\n",
       "      <th>airports_nearest</th>\n",
       "      <th>cityCenters_nearest</th>\n",
       "      <th>parks_around3000</th>\n",
       "      <th>parks_nearest</th>\n",
       "      <th>ponds_around3000</th>\n",
       "      <th>ponds_nearest</th>\n",
       "      <th>days_exposition</th>\n",
       "    </tr>\n",
       "  </thead>\n",
       "  <tbody>\n",
       "    <tr>\n",
       "      <td>0</td>\n",
       "      <td>20</td>\n",
       "      <td>13000000.0</td>\n",
       "      <td>108.0</td>\n",
       "      <td>2019-03-07T00:00:00</td>\n",
       "      <td>3</td>\n",
       "      <td>2.70</td>\n",
       "      <td>16.0</td>\n",
       "      <td>51.0</td>\n",
       "      <td>8</td>\n",
       "      <td>NaN</td>\n",
       "      <td>...</td>\n",
       "      <td>25.0</td>\n",
       "      <td>NaN</td>\n",
       "      <td>Санкт-Петербург</td>\n",
       "      <td>18863.0</td>\n",
       "      <td>16028.0</td>\n",
       "      <td>1.0</td>\n",
       "      <td>482.0</td>\n",
       "      <td>2.0</td>\n",
       "      <td>755.0</td>\n",
       "      <td>NaN</td>\n",
       "    </tr>\n",
       "    <tr>\n",
       "      <td>1</td>\n",
       "      <td>7</td>\n",
       "      <td>3350000.0</td>\n",
       "      <td>40.4</td>\n",
       "      <td>2018-12-04T00:00:00</td>\n",
       "      <td>1</td>\n",
       "      <td>NaN</td>\n",
       "      <td>11.0</td>\n",
       "      <td>18.6</td>\n",
       "      <td>1</td>\n",
       "      <td>NaN</td>\n",
       "      <td>...</td>\n",
       "      <td>11.0</td>\n",
       "      <td>2.0</td>\n",
       "      <td>посёлок Шушары</td>\n",
       "      <td>12817.0</td>\n",
       "      <td>18603.0</td>\n",
       "      <td>0.0</td>\n",
       "      <td>NaN</td>\n",
       "      <td>0.0</td>\n",
       "      <td>NaN</td>\n",
       "      <td>81.0</td>\n",
       "    </tr>\n",
       "    <tr>\n",
       "      <td>2</td>\n",
       "      <td>10</td>\n",
       "      <td>5196000.0</td>\n",
       "      <td>56.0</td>\n",
       "      <td>2015-08-20T00:00:00</td>\n",
       "      <td>2</td>\n",
       "      <td>NaN</td>\n",
       "      <td>5.0</td>\n",
       "      <td>34.3</td>\n",
       "      <td>4</td>\n",
       "      <td>NaN</td>\n",
       "      <td>...</td>\n",
       "      <td>8.3</td>\n",
       "      <td>0.0</td>\n",
       "      <td>Санкт-Петербург</td>\n",
       "      <td>21741.0</td>\n",
       "      <td>13933.0</td>\n",
       "      <td>1.0</td>\n",
       "      <td>90.0</td>\n",
       "      <td>2.0</td>\n",
       "      <td>574.0</td>\n",
       "      <td>558.0</td>\n",
       "    </tr>\n",
       "    <tr>\n",
       "      <td>3</td>\n",
       "      <td>0</td>\n",
       "      <td>64900000.0</td>\n",
       "      <td>159.0</td>\n",
       "      <td>2015-07-24T00:00:00</td>\n",
       "      <td>3</td>\n",
       "      <td>NaN</td>\n",
       "      <td>14.0</td>\n",
       "      <td>NaN</td>\n",
       "      <td>9</td>\n",
       "      <td>NaN</td>\n",
       "      <td>...</td>\n",
       "      <td>NaN</td>\n",
       "      <td>0.0</td>\n",
       "      <td>Санкт-Петербург</td>\n",
       "      <td>28098.0</td>\n",
       "      <td>6800.0</td>\n",
       "      <td>2.0</td>\n",
       "      <td>84.0</td>\n",
       "      <td>3.0</td>\n",
       "      <td>234.0</td>\n",
       "      <td>424.0</td>\n",
       "    </tr>\n",
       "    <tr>\n",
       "      <td>4</td>\n",
       "      <td>2</td>\n",
       "      <td>10000000.0</td>\n",
       "      <td>100.0</td>\n",
       "      <td>2018-06-19T00:00:00</td>\n",
       "      <td>2</td>\n",
       "      <td>3.03</td>\n",
       "      <td>14.0</td>\n",
       "      <td>32.0</td>\n",
       "      <td>13</td>\n",
       "      <td>NaN</td>\n",
       "      <td>...</td>\n",
       "      <td>41.0</td>\n",
       "      <td>NaN</td>\n",
       "      <td>Санкт-Петербург</td>\n",
       "      <td>31856.0</td>\n",
       "      <td>8098.0</td>\n",
       "      <td>2.0</td>\n",
       "      <td>112.0</td>\n",
       "      <td>1.0</td>\n",
       "      <td>48.0</td>\n",
       "      <td>121.0</td>\n",
       "    </tr>\n",
       "  </tbody>\n",
       "</table>\n",
       "<p>5 rows × 22 columns</p>\n",
       "</div>"
      ],
      "text/plain": [
       "   total_images  last_price  total_area first_day_exposition  rooms  \\\n",
       "0            20  13000000.0       108.0  2019-03-07T00:00:00      3   \n",
       "1             7   3350000.0        40.4  2018-12-04T00:00:00      1   \n",
       "2            10   5196000.0        56.0  2015-08-20T00:00:00      2   \n",
       "3             0  64900000.0       159.0  2015-07-24T00:00:00      3   \n",
       "4             2  10000000.0       100.0  2018-06-19T00:00:00      2   \n",
       "\n",
       "   ceiling_height  floors_total  living_area  floor is_apartment  ...  \\\n",
       "0            2.70          16.0         51.0      8          NaN  ...   \n",
       "1             NaN          11.0         18.6      1          NaN  ...   \n",
       "2             NaN           5.0         34.3      4          NaN  ...   \n",
       "3             NaN          14.0          NaN      9          NaN  ...   \n",
       "4            3.03          14.0         32.0     13          NaN  ...   \n",
       "\n",
       "   kitchen_area  balcony    locality_name  airports_nearest  \\\n",
       "0          25.0      NaN  Санкт-Петербург           18863.0   \n",
       "1          11.0      2.0   посёлок Шушары           12817.0   \n",
       "2           8.3      0.0  Санкт-Петербург           21741.0   \n",
       "3           NaN      0.0  Санкт-Петербург           28098.0   \n",
       "4          41.0      NaN  Санкт-Петербург           31856.0   \n",
       "\n",
       "  cityCenters_nearest  parks_around3000  parks_nearest  ponds_around3000  \\\n",
       "0             16028.0               1.0          482.0               2.0   \n",
       "1             18603.0               0.0            NaN               0.0   \n",
       "2             13933.0               1.0           90.0               2.0   \n",
       "3              6800.0               2.0           84.0               3.0   \n",
       "4              8098.0               2.0          112.0               1.0   \n",
       "\n",
       "   ponds_nearest  days_exposition  \n",
       "0          755.0              NaN  \n",
       "1            NaN             81.0  \n",
       "2          574.0            558.0  \n",
       "3          234.0            424.0  \n",
       "4           48.0            121.0  \n",
       "\n",
       "[5 rows x 22 columns]"
      ]
     },
     "execution_count": 353,
     "metadata": {},
     "output_type": "execute_result"
    }
   ],
   "source": [
    "import pandas as pd\n",
    "import seaborn as sns\n",
    "import numpy as np\n",
    "import matplotlib.pyplot as plt\n",
    "import warnings\n",
    "import numpy as np\n",
    "\n",
    "df = pd.read_csv('/datasets/real_estate_data.csv', sep='\\t')\n",
    "warnings.simplefilter(action='ignore', category=FutureWarning)\n",
    "print('x' in np.arange(5))\n",
    "df.head()"
   ]
  },
  {
   "cell_type": "code",
   "execution_count": 354,
   "metadata": {},
   "outputs": [
    {
     "data": {
      "text/html": [
       "<div>\n",
       "<style scoped>\n",
       "    .dataframe tbody tr th:only-of-type {\n",
       "        vertical-align: middle;\n",
       "    }\n",
       "\n",
       "    .dataframe tbody tr th {\n",
       "        vertical-align: top;\n",
       "    }\n",
       "\n",
       "    .dataframe thead th {\n",
       "        text-align: right;\n",
       "    }\n",
       "</style>\n",
       "<table border=\"1\" class=\"dataframe\">\n",
       "  <thead>\n",
       "    <tr style=\"text-align: right;\">\n",
       "      <th></th>\n",
       "      <th>total_images</th>\n",
       "      <th>last_price</th>\n",
       "      <th>total_area</th>\n",
       "      <th>first_day_exposition</th>\n",
       "      <th>rooms</th>\n",
       "      <th>ceiling_height</th>\n",
       "      <th>floors_total</th>\n",
       "      <th>living_area</th>\n",
       "      <th>floor</th>\n",
       "      <th>is_apartment</th>\n",
       "      <th>...</th>\n",
       "      <th>kitchen_area</th>\n",
       "      <th>balcony</th>\n",
       "      <th>locality_name</th>\n",
       "      <th>airports_nearest</th>\n",
       "      <th>cityCenters_nearest</th>\n",
       "      <th>parks_around3000</th>\n",
       "      <th>parks_nearest</th>\n",
       "      <th>ponds_around3000</th>\n",
       "      <th>ponds_nearest</th>\n",
       "      <th>days_exposition</th>\n",
       "    </tr>\n",
       "  </thead>\n",
       "  <tbody>\n",
       "    <tr>\n",
       "      <td>23694</td>\n",
       "      <td>9</td>\n",
       "      <td>9700000.0</td>\n",
       "      <td>133.81</td>\n",
       "      <td>2017-03-21T00:00:00</td>\n",
       "      <td>3</td>\n",
       "      <td>3.7</td>\n",
       "      <td>5.0</td>\n",
       "      <td>73.3</td>\n",
       "      <td>3</td>\n",
       "      <td>NaN</td>\n",
       "      <td>...</td>\n",
       "      <td>13.83</td>\n",
       "      <td>NaN</td>\n",
       "      <td>Санкт-Петербург</td>\n",
       "      <td>24665.0</td>\n",
       "      <td>4232.0</td>\n",
       "      <td>1.0</td>\n",
       "      <td>796.0</td>\n",
       "      <td>3.0</td>\n",
       "      <td>381.0</td>\n",
       "      <td>NaN</td>\n",
       "    </tr>\n",
       "    <tr>\n",
       "      <td>23695</td>\n",
       "      <td>14</td>\n",
       "      <td>3100000.0</td>\n",
       "      <td>59.00</td>\n",
       "      <td>2018-01-15T00:00:00</td>\n",
       "      <td>3</td>\n",
       "      <td>NaN</td>\n",
       "      <td>5.0</td>\n",
       "      <td>38.0</td>\n",
       "      <td>4</td>\n",
       "      <td>NaN</td>\n",
       "      <td>...</td>\n",
       "      <td>8.50</td>\n",
       "      <td>NaN</td>\n",
       "      <td>Тосно</td>\n",
       "      <td>NaN</td>\n",
       "      <td>NaN</td>\n",
       "      <td>NaN</td>\n",
       "      <td>NaN</td>\n",
       "      <td>NaN</td>\n",
       "      <td>NaN</td>\n",
       "      <td>45.0</td>\n",
       "    </tr>\n",
       "    <tr>\n",
       "      <td>23696</td>\n",
       "      <td>18</td>\n",
       "      <td>2500000.0</td>\n",
       "      <td>56.70</td>\n",
       "      <td>2018-02-11T00:00:00</td>\n",
       "      <td>2</td>\n",
       "      <td>NaN</td>\n",
       "      <td>3.0</td>\n",
       "      <td>29.7</td>\n",
       "      <td>1</td>\n",
       "      <td>NaN</td>\n",
       "      <td>...</td>\n",
       "      <td>NaN</td>\n",
       "      <td>NaN</td>\n",
       "      <td>село Рождествено</td>\n",
       "      <td>NaN</td>\n",
       "      <td>NaN</td>\n",
       "      <td>NaN</td>\n",
       "      <td>NaN</td>\n",
       "      <td>NaN</td>\n",
       "      <td>NaN</td>\n",
       "      <td>NaN</td>\n",
       "    </tr>\n",
       "    <tr>\n",
       "      <td>23697</td>\n",
       "      <td>13</td>\n",
       "      <td>11475000.0</td>\n",
       "      <td>76.75</td>\n",
       "      <td>2017-03-28T00:00:00</td>\n",
       "      <td>2</td>\n",
       "      <td>3.0</td>\n",
       "      <td>17.0</td>\n",
       "      <td>NaN</td>\n",
       "      <td>12</td>\n",
       "      <td>NaN</td>\n",
       "      <td>...</td>\n",
       "      <td>23.30</td>\n",
       "      <td>2.0</td>\n",
       "      <td>Санкт-Петербург</td>\n",
       "      <td>39140.0</td>\n",
       "      <td>10364.0</td>\n",
       "      <td>2.0</td>\n",
       "      <td>173.0</td>\n",
       "      <td>3.0</td>\n",
       "      <td>196.0</td>\n",
       "      <td>602.0</td>\n",
       "    </tr>\n",
       "    <tr>\n",
       "      <td>23698</td>\n",
       "      <td>4</td>\n",
       "      <td>1350000.0</td>\n",
       "      <td>32.30</td>\n",
       "      <td>2017-07-21T00:00:00</td>\n",
       "      <td>1</td>\n",
       "      <td>2.5</td>\n",
       "      <td>5.0</td>\n",
       "      <td>12.3</td>\n",
       "      <td>1</td>\n",
       "      <td>NaN</td>\n",
       "      <td>...</td>\n",
       "      <td>9.00</td>\n",
       "      <td>NaN</td>\n",
       "      <td>поселок Новый Учхоз</td>\n",
       "      <td>NaN</td>\n",
       "      <td>NaN</td>\n",
       "      <td>NaN</td>\n",
       "      <td>NaN</td>\n",
       "      <td>NaN</td>\n",
       "      <td>NaN</td>\n",
       "      <td>NaN</td>\n",
       "    </tr>\n",
       "  </tbody>\n",
       "</table>\n",
       "<p>5 rows × 22 columns</p>\n",
       "</div>"
      ],
      "text/plain": [
       "       total_images  last_price  total_area first_day_exposition  rooms  \\\n",
       "23694             9   9700000.0      133.81  2017-03-21T00:00:00      3   \n",
       "23695            14   3100000.0       59.00  2018-01-15T00:00:00      3   \n",
       "23696            18   2500000.0       56.70  2018-02-11T00:00:00      2   \n",
       "23697            13  11475000.0       76.75  2017-03-28T00:00:00      2   \n",
       "23698             4   1350000.0       32.30  2017-07-21T00:00:00      1   \n",
       "\n",
       "       ceiling_height  floors_total  living_area  floor is_apartment  ...  \\\n",
       "23694             3.7           5.0         73.3      3          NaN  ...   \n",
       "23695             NaN           5.0         38.0      4          NaN  ...   \n",
       "23696             NaN           3.0         29.7      1          NaN  ...   \n",
       "23697             3.0          17.0          NaN     12          NaN  ...   \n",
       "23698             2.5           5.0         12.3      1          NaN  ...   \n",
       "\n",
       "       kitchen_area  balcony        locality_name  airports_nearest  \\\n",
       "23694         13.83      NaN      Санкт-Петербург           24665.0   \n",
       "23695          8.50      NaN                Тосно               NaN   \n",
       "23696           NaN      NaN     село Рождествено               NaN   \n",
       "23697         23.30      2.0      Санкт-Петербург           39140.0   \n",
       "23698          9.00      NaN  поселок Новый Учхоз               NaN   \n",
       "\n",
       "      cityCenters_nearest  parks_around3000  parks_nearest  ponds_around3000  \\\n",
       "23694              4232.0               1.0          796.0               3.0   \n",
       "23695                 NaN               NaN            NaN               NaN   \n",
       "23696                 NaN               NaN            NaN               NaN   \n",
       "23697             10364.0               2.0          173.0               3.0   \n",
       "23698                 NaN               NaN            NaN               NaN   \n",
       "\n",
       "       ponds_nearest  days_exposition  \n",
       "23694          381.0              NaN  \n",
       "23695            NaN             45.0  \n",
       "23696            NaN              NaN  \n",
       "23697          196.0            602.0  \n",
       "23698            NaN              NaN  \n",
       "\n",
       "[5 rows x 22 columns]"
      ]
     },
     "execution_count": 354,
     "metadata": {},
     "output_type": "execute_result"
    }
   ],
   "source": [
    "df.tail()"
   ]
  },
  {
   "cell_type": "code",
   "execution_count": 355,
   "metadata": {},
   "outputs": [
    {
     "name": "stdout",
     "output_type": "stream",
     "text": [
      "<class 'pandas.core.frame.DataFrame'>\n",
      "RangeIndex: 23699 entries, 0 to 23698\n",
      "Data columns (total 22 columns):\n",
      "total_images            23699 non-null int64\n",
      "last_price              23699 non-null float64\n",
      "total_area              23699 non-null float64\n",
      "first_day_exposition    23699 non-null object\n",
      "rooms                   23699 non-null int64\n",
      "ceiling_height          14504 non-null float64\n",
      "floors_total            23613 non-null float64\n",
      "living_area             21796 non-null float64\n",
      "floor                   23699 non-null int64\n",
      "is_apartment            2775 non-null object\n",
      "studio                  23699 non-null bool\n",
      "open_plan               23699 non-null bool\n",
      "kitchen_area            21421 non-null float64\n",
      "balcony                 12180 non-null float64\n",
      "locality_name           23650 non-null object\n",
      "airports_nearest        18157 non-null float64\n",
      "cityCenters_nearest     18180 non-null float64\n",
      "parks_around3000        18181 non-null float64\n",
      "parks_nearest           8079 non-null float64\n",
      "ponds_around3000        18181 non-null float64\n",
      "ponds_nearest           9110 non-null float64\n",
      "days_exposition         20518 non-null float64\n",
      "dtypes: bool(2), float64(14), int64(3), object(3)\n",
      "memory usage: 3.7+ MB\n"
     ]
    }
   ],
   "source": [
    "df.info()"
   ]
  },
  {
   "cell_type": "markdown",
   "metadata": {},
   "source": [
    "### Вывод"
   ]
  },
  {
   "cell_type": "markdown",
   "metadata": {},
   "source": [
    "При первичном изучении данных мы видим отсутствие значений во многих столбцах, некорректные типы данных, нелогичное расположение столбцов, а также верхний регистр в названии одного из них. Все это мы исправим в предобработке данных."
   ]
  },
  {
   "cell_type": "markdown",
   "metadata": {},
   "source": [
    "### <a id='section2'>2. Предобработка данных</a>"
   ]
  },
  {
   "cell_type": "code",
   "execution_count": 356,
   "metadata": {},
   "outputs": [],
   "source": [
    "#переставим столбцы местами чтобы их расположение стало более логично\n",
    "df = df[[\n",
    " 'locality_name',  \n",
    " 'total_area',\n",
    " 'living_area',\n",
    " 'kitchen_area',\n",
    " 'ceiling_height',\n",
    " 'rooms',\n",
    " 'balcony',\n",
    " 'floor',\n",
    " 'floors_total',\n",
    " 'is_apartment',\n",
    " 'studio',\n",
    " 'open_plan',  \n",
    " 'total_images',\n",
    " 'last_price',\n",
    " 'first_day_exposition',\n",
    " 'days_exposition',\n",
    " 'cityCenters_nearest',\n",
    " 'airports_nearest',\n",
    " 'parks_around3000',\n",
    " 'parks_nearest',\n",
    " 'ponds_around3000',\n",
    " 'ponds_nearest'\n",
    "]]"
   ]
  },
  {
   "cell_type": "code",
   "execution_count": 357,
   "metadata": {},
   "outputs": [],
   "source": [
    "#переименуем некоторые столбцы для удобства восприятия\n",
    "colum= [\n",
    " 'locality_name',  \n",
    " 'total_area',\n",
    " 'living_area',\n",
    " 'kitchen_area',\n",
    " 'ceiling_height',\n",
    " 'rooms',\n",
    " 'balcony',\n",
    " 'floor',\n",
    " 'floors_total',\n",
    " 'is_apartment',\n",
    " 'studio',\n",
    " 'open_plan',  \n",
    " 'total_images',\n",
    " 'last_price',\n",
    " 'first_day_exposition',\n",
    " 'days_exposition',\n",
    " 'citycenter_m',\n",
    " 'airports_m',\n",
    " 'parks_3km',\n",
    " 'parks_nearest_m',\n",
    " 'ponds_3km',\n",
    " 'ponds_nearest_m'\n",
    "]\n",
    "df.set_axis(colum, axis='columns', inplace=True)"
   ]
  },
  {
   "cell_type": "code",
   "execution_count": 358,
   "metadata": {},
   "outputs": [
    {
     "name": "stdout",
     "output_type": "stream",
     "text": [
      "locality_name           0.002068\n",
      "total_area              0.000000\n",
      "living_area             0.080299\n",
      "kitchen_area            0.096122\n",
      "ceiling_height          0.387991\n",
      "rooms                   0.000000\n",
      "balcony                 0.486054\n",
      "floor                   0.000000\n",
      "floors_total            0.003629\n",
      "is_apartment            0.882906\n",
      "studio                  0.000000\n",
      "open_plan               0.000000\n",
      "total_images            0.000000\n",
      "last_price              0.000000\n",
      "first_day_exposition    0.000000\n",
      "days_exposition         0.134225\n",
      "citycenter_m            0.232879\n",
      "airports_m              0.233850\n",
      "parks_3km               0.232837\n",
      "parks_nearest_m         0.659100\n",
      "ponds_3km               0.232837\n",
      "ponds_nearest_m         0.615596\n",
      "dtype: float64\n"
     ]
    }
   ],
   "source": [
    "#посмотрим на долю пропущенных значений\n",
    "print(df.isna().mean())"
   ]
  },
  {
   "cell_type": "code",
   "execution_count": 359,
   "metadata": {},
   "outputs": [],
   "source": [
    "#прежде всего заполним нулевыми значениями пропуски в столбце балконы\n",
    "df.loc[df['balcony'].isnull(), 'balcony'] = 0"
   ]
  },
  {
   "cell_type": "code",
   "execution_count": 360,
   "metadata": {},
   "outputs": [
    {
     "name": "stdout",
     "output_type": "stream",
     "text": [
      "1     8047\n",
      "2     7940\n",
      "3     5814\n",
      "4     1180\n",
      "5      326\n",
      "0      197\n",
      "6      105\n",
      "7       59\n",
      "8       12\n",
      "9        8\n",
      "10       3\n",
      "14       2\n",
      "11       2\n",
      "19       1\n",
      "12       1\n",
      "16       1\n",
      "15       1\n",
      "Name: rooms, dtype: int64\n",
      "False    2725\n",
      "True       50\n",
      "Name: is_apartment, dtype: int64\n"
     ]
    }
   ],
   "source": [
    "print(df['rooms'].value_counts())\n",
    "print(df['is_apartment'].value_counts())"
   ]
  },
  {
   "cell_type": "code",
   "execution_count": 361,
   "metadata": {},
   "outputs": [],
   "source": [
    "#удаляем строки, где количество комнат указано как 0, так как их количество менее 1%\n",
    "df.drop(df[df['rooms'] == 0].index, inplace=True)\n",
    "\n",
    "# также поступим с квартирами где не указана этажность\n",
    "df.drop(df[df['floors_total'].isnull()].index, inplace=True)"
   ]
  },
  {
   "cell_type": "code",
   "execution_count": 362,
   "metadata": {},
   "outputs": [
    {
     "name": "stdout",
     "output_type": "stream",
     "text": [
      "False    2719\n",
      "True       50\n",
      "Name: is_apartment, dtype: int64\n"
     ]
    }
   ],
   "source": [
    "#заодно проверим гипотезу, что квартиры с 0 комнат могли быть апартаментами\n",
    "print(df['is_apartment'].value_counts())"
   ]
  },
  {
   "cell_type": "code",
   "execution_count": 363,
   "metadata": {},
   "outputs": [],
   "source": [
    "#количество аппартаментов не изменилось, значит их не затронуло удаление"
   ]
  },
  {
   "cell_type": "code",
   "execution_count": 364,
   "metadata": {},
   "outputs": [
    {
     "data": {
      "text/plain": [
       "48"
      ]
     },
     "execution_count": 364,
     "metadata": {},
     "output_type": "execute_result"
    }
   ],
   "source": [
    "df['locality_name'].isna().sum()"
   ]
  },
  {
   "cell_type": "code",
   "execution_count": 365,
   "metadata": {},
   "outputs": [
    {
     "data": {
      "text/plain": [
       "0"
      ]
     },
     "execution_count": 365,
     "metadata": {},
     "output_type": "execute_result"
    }
   ],
   "source": [
    "# удаляем строки без указания населенного пункта ибо они бесполезны для анализа\n",
    "df = df.dropna(subset=['locality_name'])\n",
    "df['locality_name'].isna().sum()"
   ]
  },
  {
   "cell_type": "code",
   "execution_count": 366,
   "metadata": {},
   "outputs": [
    {
     "data": {
      "text/plain": [
       "array([nan, False, True], dtype=object)"
      ]
     },
     "execution_count": 366,
     "metadata": {},
     "output_type": "execute_result"
    }
   ],
   "source": [
    "# теперь разберемся со студиями\n",
    "df['is_apartment'].unique()\n"
   ]
  },
  {
   "cell_type": "code",
   "execution_count": 367,
   "metadata": {},
   "outputs": [],
   "source": [
    "# заменим NAN значения на False\n",
    "df['is_apartment'] = df['is_apartment'].fillna(0)"
   ]
  },
  {
   "cell_type": "code",
   "execution_count": 368,
   "metadata": {},
   "outputs": [],
   "source": [
    "# изменим тип данных столбца с первым днем публикации\n",
    "df['first_day_exposition'] = pd.to_datetime(df['first_day_exposition'], format='%Y-%m-%dT%H:%M:%S')"
   ]
  },
  {
   "cell_type": "code",
   "execution_count": 369,
   "metadata": {},
   "outputs": [
    {
     "name": "stdout",
     "output_type": "stream",
     "text": [
      "Средняя площадь кухни 9.0\n",
      "Средняя жилая площадь 30.2\n",
      "Средняя общая площадь 52.0\n"
     ]
    }
   ],
   "source": [
    "for rooms in df['rooms'].unique():\n",
    "    #заполняем пропуски общей площади\n",
    "    df.loc[(df['total_area'].isna()) & (df['rooms'] == rooms), 'total_area'] = \\\n",
    "    df[df['rooms'] == rooms]['total_area'].median()\n",
    "    #заполняем пропуски в площади кухни\n",
    "    df.loc[(df['kitchen_area'].isna()) & (df['rooms'] == rooms), 'kitchen_area'] = \\\n",
    "    df[df['rooms'] == rooms]['kitchen_area'].median()\n",
    "\n",
    "#заполняем пропуски в жилой площади(принял нежилую площадь как 2 площади кухни: кухня+коридор+ванна\\туалет)\n",
    "df.loc[df['living_area'].isna(), 'living_area'] = df.loc[df['living_area'].isna(), 'total_area'] - \\\n",
    "                                                        2* df.loc[df['living_area'].isna(), 'kitchen_area']\n",
    "    \n",
    "print('Средняя площадь кухни', df['kitchen_area'].median())\n",
    "print('Средняя жилая площадь', df['living_area'].median())\n",
    "print('Средняя общая площадь', df['total_area'].median())"
   ]
  },
  {
   "cell_type": "code",
   "execution_count": 370,
   "metadata": {},
   "outputs": [],
   "source": [
    "# как видим значения получаются довольно правдоподобными"
   ]
  },
  {
   "cell_type": "code",
   "execution_count": 371,
   "metadata": {},
   "outputs": [],
   "source": [
    "#устраняем оставшиеся пропуски в других столбцах\n",
    "#дни экспозиции\n",
    "df.loc[df['days_exposition'].isna(), 'days_exposition'] = df['days_exposition'].describe()[5]\n",
    "#аэропорты, парки и пруды\n",
    "for location in df['locality_name'].unique():\n",
    "    df.loc[(df['locality_name'] == location) & (df['airports_m'].isna()),'airports_m' ] \\\n",
    "                        =  df.loc[df['locality_name'] == location, 'airports_m'].mean()\n",
    "    \n",
    "    df.loc[(df['locality_name'] == location) & (df['parks_3km'].isna()),'parks_3km' ] \\\n",
    "                        =  df.loc[df['locality_name'] == location, 'parks_3km'].mean()\n",
    "    \n",
    "    df.loc[(df['locality_name'] == location) & (df['ponds_3km'].isna()),'ponds_3km' ] \\\n",
    "                        =  df.loc[df['locality_name'] == location, 'ponds_3km'].mean()\n",
    "    "
   ]
  },
  {
   "cell_type": "code",
   "execution_count": 372,
   "metadata": {},
   "outputs": [
    {
     "name": "stdout",
     "output_type": "stream",
     "text": [
      "locality_name           0.000000\n",
      "total_area              0.000000\n",
      "living_area             0.000000\n",
      "kitchen_area            0.000000\n",
      "ceiling_height          0.383895\n",
      "rooms                   0.000000\n",
      "balcony                 0.000000\n",
      "floor                   0.000000\n",
      "floors_total            0.000000\n",
      "is_apartment            0.000000\n",
      "studio                  0.000000\n",
      "open_plan               0.000000\n",
      "total_images            0.000000\n",
      "last_price              0.000000\n",
      "first_day_exposition    0.000000\n",
      "days_exposition         0.000000\n",
      "citycenter_m            0.232082\n",
      "airports_m              0.229173\n",
      "parks_3km               0.229173\n",
      "parks_nearest_m         0.657610\n",
      "ponds_3km               0.229173\n",
      "ponds_nearest_m         0.616277\n",
      "dtype: float64\n"
     ]
    }
   ],
   "source": [
    "#Проверим удалось ли заменить пропуски    \n",
    "print(df.isna().mean())"
   ]
  },
  {
   "cell_type": "code",
   "execution_count": 373,
   "metadata": {},
   "outputs": [],
   "source": [
    "#заменим тип float на int в столбцах где используются целоичсленный значения\n",
    "df['balcony'] = df['balcony'].astype('int')\n",
    "df['floors_total'] = df['floors_total'].astype('int')\n",
    "df['last_price'] = df['last_price'].astype('int')\n",
    "df['days_exposition'] = df['days_exposition'].astype('int')"
   ]
  },
  {
   "cell_type": "code",
   "execution_count": 374,
   "metadata": {},
   "outputs": [
    {
     "name": "stdout",
     "output_type": "stream",
     "text": [
      "<class 'pandas.core.frame.DataFrame'>\n",
      "Int64Index: 23371 entries, 0 to 23698\n",
      "Data columns (total 22 columns):\n",
      "locality_name           23371 non-null object\n",
      "total_area              23371 non-null float64\n",
      "living_area             23371 non-null float64\n",
      "kitchen_area            23371 non-null float64\n",
      "ceiling_height          14399 non-null float64\n",
      "rooms                   23371 non-null int64\n",
      "balcony                 23371 non-null int64\n",
      "floor                   23371 non-null int64\n",
      "floors_total            23371 non-null int64\n",
      "is_apartment            23371 non-null object\n",
      "studio                  23371 non-null bool\n",
      "open_plan               23371 non-null bool\n",
      "total_images            23371 non-null int64\n",
      "last_price              23371 non-null int64\n",
      "first_day_exposition    23371 non-null datetime64[ns]\n",
      "days_exposition         23371 non-null int64\n",
      "citycenter_m            17947 non-null float64\n",
      "airports_m              18015 non-null float64\n",
      "parks_3km               18015 non-null float64\n",
      "parks_nearest_m         8002 non-null float64\n",
      "ponds_3km               18015 non-null float64\n",
      "ponds_nearest_m         8968 non-null float64\n",
      "dtypes: bool(2), datetime64[ns](1), float64(10), int64(7), object(2)\n",
      "memory usage: 3.8+ MB\n"
     ]
    }
   ],
   "source": [
    "#окончательный вид данных после предобработки\n",
    "df.info()"
   ]
  },
  {
   "cell_type": "markdown",
   "metadata": {},
   "source": [
    "### Вывод:"
   ]
  },
  {
   "cell_type": "markdown",
   "metadata": {},
   "source": [
    "В процессе предобработки данных навели порядок в названиях столбцов, заменили строковый формат на дату, убрали строки с пустыми значения, которые не повлияют на дальнешие расчеты. Проценные значения в значениях площади заменили медианными. Теперь производить анализ станет легче и результаты будут точнее."
   ]
  },
  {
   "cell_type": "markdown",
   "metadata": {},
   "source": [
    "### <a href='#section5'>3. Проведение расчетов и добавление новых столбцов в таблицу</a>"
   ]
  },
  {
   "cell_type": "code",
   "execution_count": 375,
   "metadata": {},
   "outputs": [],
   "source": [
    "df['price_meter'] = df['last_price'] / df['total_area']\n",
    "df['price_meter'] = df['price_meter'].round(decimals=2)"
   ]
  },
  {
   "cell_type": "code",
   "execution_count": 376,
   "metadata": {},
   "outputs": [],
   "source": [
    "#расчитаем и добавим в таблицу день недели, месяц и год публикации объявления\n",
    "df['number_day'], df['month'], df['year']  = df['first_day_exposition'].dt.weekday, df['first_day_exposition'].dt.month,\\\n",
    "                                                                                   df['first_day_exposition'].dt.year"
   ]
  },
  {
   "cell_type": "code",
   "execution_count": 377,
   "metadata": {},
   "outputs": [
    {
     "data": {
      "text/plain": [
       "другой       17161\n",
       "последний     3319\n",
       "первый        2891\n",
       "Name: new_floor, dtype: int64"
      ]
     },
     "execution_count": 377,
     "metadata": {},
     "output_type": "execute_result"
    }
   ],
   "source": [
    "#расчитаем и добавим в таблицу этаж квартиры; варианты — первый, последний, другой\n",
    "def new_floor(row):\n",
    "    try:\n",
    "        if row['floor'] == 1:\n",
    "            return 'первый'\n",
    "        if row['floor'] == row['floors_total']:\n",
    "            return 'последний'\n",
    "        return 'другой'\n",
    "    except:\n",
    "        return 'нет информации'\n",
    "df['new_floor'] = df.apply(new_floor, axis = 1)  \n",
    "df['new_floor'].value_counts()"
   ]
  },
  {
   "cell_type": "code",
   "execution_count": 378,
   "metadata": {},
   "outputs": [],
   "source": [
    "#расчитаем и добавим в таблицу: соотношение жилой и общей площади и  также отношение площади кухни к общей\n",
    "df['living_area_ratio'] = df['living_area'] / df['total_area']\n",
    "df['kitchen_area_ratio'] = df['kitchen_area'] / df['total_area']"
   ]
  },
  {
   "cell_type": "code",
   "execution_count": 379,
   "metadata": {},
   "outputs": [
    {
     "data": {
      "text/html": [
       "<div>\n",
       "<style scoped>\n",
       "    .dataframe tbody tr th:only-of-type {\n",
       "        vertical-align: middle;\n",
       "    }\n",
       "\n",
       "    .dataframe tbody tr th {\n",
       "        vertical-align: top;\n",
       "    }\n",
       "\n",
       "    .dataframe thead th {\n",
       "        text-align: right;\n",
       "    }\n",
       "</style>\n",
       "<table border=\"1\" class=\"dataframe\">\n",
       "  <thead>\n",
       "    <tr style=\"text-align: right;\">\n",
       "      <th></th>\n",
       "      <th>locality_name</th>\n",
       "      <th>total_area</th>\n",
       "      <th>living_area</th>\n",
       "      <th>kitchen_area</th>\n",
       "      <th>ceiling_height</th>\n",
       "      <th>rooms</th>\n",
       "      <th>balcony</th>\n",
       "      <th>floor</th>\n",
       "      <th>floors_total</th>\n",
       "      <th>is_apartment</th>\n",
       "      <th>...</th>\n",
       "      <th>parks_nearest_m</th>\n",
       "      <th>ponds_3km</th>\n",
       "      <th>ponds_nearest_m</th>\n",
       "      <th>price_meter</th>\n",
       "      <th>number_day</th>\n",
       "      <th>month</th>\n",
       "      <th>year</th>\n",
       "      <th>new_floor</th>\n",
       "      <th>living_area_ratio</th>\n",
       "      <th>kitchen_area_ratio</th>\n",
       "    </tr>\n",
       "  </thead>\n",
       "  <tbody>\n",
       "    <tr>\n",
       "      <td>0</td>\n",
       "      <td>Санкт-Петербург</td>\n",
       "      <td>108.0</td>\n",
       "      <td>51.0</td>\n",
       "      <td>25.0</td>\n",
       "      <td>2.70</td>\n",
       "      <td>3</td>\n",
       "      <td>0</td>\n",
       "      <td>8</td>\n",
       "      <td>16</td>\n",
       "      <td>0</td>\n",
       "      <td>...</td>\n",
       "      <td>482.0</td>\n",
       "      <td>2.0</td>\n",
       "      <td>755.0</td>\n",
       "      <td>120370.37</td>\n",
       "      <td>3</td>\n",
       "      <td>3</td>\n",
       "      <td>2019</td>\n",
       "      <td>другой</td>\n",
       "      <td>0.472222</td>\n",
       "      <td>0.231481</td>\n",
       "    </tr>\n",
       "    <tr>\n",
       "      <td>1</td>\n",
       "      <td>посёлок Шушары</td>\n",
       "      <td>40.4</td>\n",
       "      <td>18.6</td>\n",
       "      <td>11.0</td>\n",
       "      <td>NaN</td>\n",
       "      <td>1</td>\n",
       "      <td>2</td>\n",
       "      <td>1</td>\n",
       "      <td>11</td>\n",
       "      <td>0</td>\n",
       "      <td>...</td>\n",
       "      <td>NaN</td>\n",
       "      <td>0.0</td>\n",
       "      <td>NaN</td>\n",
       "      <td>82920.79</td>\n",
       "      <td>1</td>\n",
       "      <td>12</td>\n",
       "      <td>2018</td>\n",
       "      <td>первый</td>\n",
       "      <td>0.460396</td>\n",
       "      <td>0.272277</td>\n",
       "    </tr>\n",
       "    <tr>\n",
       "      <td>2</td>\n",
       "      <td>Санкт-Петербург</td>\n",
       "      <td>56.0</td>\n",
       "      <td>34.3</td>\n",
       "      <td>8.3</td>\n",
       "      <td>NaN</td>\n",
       "      <td>2</td>\n",
       "      <td>0</td>\n",
       "      <td>4</td>\n",
       "      <td>5</td>\n",
       "      <td>0</td>\n",
       "      <td>...</td>\n",
       "      <td>90.0</td>\n",
       "      <td>2.0</td>\n",
       "      <td>574.0</td>\n",
       "      <td>92785.71</td>\n",
       "      <td>3</td>\n",
       "      <td>8</td>\n",
       "      <td>2015</td>\n",
       "      <td>другой</td>\n",
       "      <td>0.612500</td>\n",
       "      <td>0.148214</td>\n",
       "    </tr>\n",
       "    <tr>\n",
       "      <td>3</td>\n",
       "      <td>Санкт-Петербург</td>\n",
       "      <td>159.0</td>\n",
       "      <td>140.0</td>\n",
       "      <td>9.5</td>\n",
       "      <td>NaN</td>\n",
       "      <td>3</td>\n",
       "      <td>0</td>\n",
       "      <td>9</td>\n",
       "      <td>14</td>\n",
       "      <td>0</td>\n",
       "      <td>...</td>\n",
       "      <td>84.0</td>\n",
       "      <td>3.0</td>\n",
       "      <td>234.0</td>\n",
       "      <td>408176.10</td>\n",
       "      <td>4</td>\n",
       "      <td>7</td>\n",
       "      <td>2015</td>\n",
       "      <td>другой</td>\n",
       "      <td>0.880503</td>\n",
       "      <td>0.059748</td>\n",
       "    </tr>\n",
       "    <tr>\n",
       "      <td>4</td>\n",
       "      <td>Санкт-Петербург</td>\n",
       "      <td>100.0</td>\n",
       "      <td>32.0</td>\n",
       "      <td>41.0</td>\n",
       "      <td>3.03</td>\n",
       "      <td>2</td>\n",
       "      <td>0</td>\n",
       "      <td>13</td>\n",
       "      <td>14</td>\n",
       "      <td>0</td>\n",
       "      <td>...</td>\n",
       "      <td>112.0</td>\n",
       "      <td>1.0</td>\n",
       "      <td>48.0</td>\n",
       "      <td>100000.00</td>\n",
       "      <td>1</td>\n",
       "      <td>6</td>\n",
       "      <td>2018</td>\n",
       "      <td>другой</td>\n",
       "      <td>0.320000</td>\n",
       "      <td>0.410000</td>\n",
       "    </tr>\n",
       "  </tbody>\n",
       "</table>\n",
       "<p>5 rows × 29 columns</p>\n",
       "</div>"
      ],
      "text/plain": [
       "     locality_name  total_area  living_area  kitchen_area  ceiling_height  \\\n",
       "0  Санкт-Петербург       108.0         51.0          25.0            2.70   \n",
       "1   посёлок Шушары        40.4         18.6          11.0             NaN   \n",
       "2  Санкт-Петербург        56.0         34.3           8.3             NaN   \n",
       "3  Санкт-Петербург       159.0        140.0           9.5             NaN   \n",
       "4  Санкт-Петербург       100.0         32.0          41.0            3.03   \n",
       "\n",
       "   rooms  balcony  floor  floors_total is_apartment  ...  parks_nearest_m  \\\n",
       "0      3        0      8            16            0  ...            482.0   \n",
       "1      1        2      1            11            0  ...              NaN   \n",
       "2      2        0      4             5            0  ...             90.0   \n",
       "3      3        0      9            14            0  ...             84.0   \n",
       "4      2        0     13            14            0  ...            112.0   \n",
       "\n",
       "   ponds_3km  ponds_nearest_m  price_meter number_day  month  year  new_floor  \\\n",
       "0        2.0            755.0    120370.37          3      3  2019     другой   \n",
       "1        0.0              NaN     82920.79          1     12  2018     первый   \n",
       "2        2.0            574.0     92785.71          3      8  2015     другой   \n",
       "3        3.0            234.0    408176.10          4      7  2015     другой   \n",
       "4        1.0             48.0    100000.00          1      6  2018     другой   \n",
       "\n",
       "   living_area_ratio  kitchen_area_ratio  \n",
       "0           0.472222            0.231481  \n",
       "1           0.460396            0.272277  \n",
       "2           0.612500            0.148214  \n",
       "3           0.880503            0.059748  \n",
       "4           0.320000            0.410000  \n",
       "\n",
       "[5 rows x 29 columns]"
      ]
     },
     "execution_count": 379,
     "metadata": {},
     "output_type": "execute_result"
    }
   ],
   "source": [
    "df.head()"
   ]
  },
  {
   "cell_type": "markdown",
   "metadata": {},
   "source": [
    "### Вывод:"
   ]
  },
  {
   "cell_type": "markdown",
   "metadata": {},
   "source": [
    "Теперь когда мы добавили все необходимые для работы столбцы можно приступать к анализу данных "
   ]
  },
  {
   "cell_type": "markdown",
   "metadata": {},
   "source": [
    "### <a href='section6'>4. Исследовательский анализ данных</a>"
   ]
  },
  {
   "cell_type": "code",
   "execution_count": 380,
   "metadata": {},
   "outputs": [],
   "source": [
    "#изучим основные параметры квартир: площадь, цена, число комнат, высота потолков\n",
    "#но для начала уберем редкие и выбивающиеся значения"
   ]
  },
  {
   "cell_type": "code",
   "execution_count": 381,
   "metadata": {},
   "outputs": [
    {
     "data": {
      "text/html": [
       "<div>\n",
       "<style scoped>\n",
       "    .dataframe tbody tr th:only-of-type {\n",
       "        vertical-align: middle;\n",
       "    }\n",
       "\n",
       "    .dataframe tbody tr th {\n",
       "        vertical-align: top;\n",
       "    }\n",
       "\n",
       "    .dataframe thead th {\n",
       "        text-align: right;\n",
       "    }\n",
       "</style>\n",
       "<table border=\"1\" class=\"dataframe\">\n",
       "  <thead>\n",
       "    <tr style=\"text-align: right;\">\n",
       "      <th></th>\n",
       "      <th>total_area</th>\n",
       "      <th>last_price</th>\n",
       "      <th>rooms</th>\n",
       "      <th>ceiling_height</th>\n",
       "      <th>days_exposition</th>\n",
       "    </tr>\n",
       "  </thead>\n",
       "  <tbody>\n",
       "    <tr>\n",
       "      <td>count</td>\n",
       "      <td>23371.000000</td>\n",
       "      <td>2.337100e+04</td>\n",
       "      <td>23371.000000</td>\n",
       "      <td>14399.000000</td>\n",
       "      <td>23371.000000</td>\n",
       "    </tr>\n",
       "    <tr>\n",
       "      <td>mean</td>\n",
       "      <td>60.580161</td>\n",
       "      <td>6.566584e+06</td>\n",
       "      <td>2.087844</td>\n",
       "      <td>2.769387</td>\n",
       "      <td>169.836721</td>\n",
       "    </tr>\n",
       "    <tr>\n",
       "      <td>std</td>\n",
       "      <td>35.613640</td>\n",
       "      <td>1.094248e+07</td>\n",
       "      <td>1.066362</td>\n",
       "      <td>1.249022</td>\n",
       "      <td>206.758741</td>\n",
       "    </tr>\n",
       "    <tr>\n",
       "      <td>min</td>\n",
       "      <td>12.000000</td>\n",
       "      <td>1.219000e+04</td>\n",
       "      <td>1.000000</td>\n",
       "      <td>1.000000</td>\n",
       "      <td>1.000000</td>\n",
       "    </tr>\n",
       "    <tr>\n",
       "      <td>25%</td>\n",
       "      <td>40.200000</td>\n",
       "      <td>3.450000e+06</td>\n",
       "      <td>1.000000</td>\n",
       "      <td>2.510000</td>\n",
       "      <td>45.000000</td>\n",
       "    </tr>\n",
       "    <tr>\n",
       "      <td>50%</td>\n",
       "      <td>52.000000</td>\n",
       "      <td>4.650000e+06</td>\n",
       "      <td>2.000000</td>\n",
       "      <td>2.650000</td>\n",
       "      <td>96.000000</td>\n",
       "    </tr>\n",
       "    <tr>\n",
       "      <td>75%</td>\n",
       "      <td>70.000000</td>\n",
       "      <td>6.800000e+06</td>\n",
       "      <td>3.000000</td>\n",
       "      <td>2.800000</td>\n",
       "      <td>199.000000</td>\n",
       "    </tr>\n",
       "    <tr>\n",
       "      <td>max</td>\n",
       "      <td>900.000000</td>\n",
       "      <td>7.630000e+08</td>\n",
       "      <td>19.000000</td>\n",
       "      <td>100.000000</td>\n",
       "      <td>1580.000000</td>\n",
       "    </tr>\n",
       "  </tbody>\n",
       "</table>\n",
       "</div>"
      ],
      "text/plain": [
       "         total_area    last_price         rooms  ceiling_height  \\\n",
       "count  23371.000000  2.337100e+04  23371.000000    14399.000000   \n",
       "mean      60.580161  6.566584e+06      2.087844        2.769387   \n",
       "std       35.613640  1.094248e+07      1.066362        1.249022   \n",
       "min       12.000000  1.219000e+04      1.000000        1.000000   \n",
       "25%       40.200000  3.450000e+06      1.000000        2.510000   \n",
       "50%       52.000000  4.650000e+06      2.000000        2.650000   \n",
       "75%       70.000000  6.800000e+06      3.000000        2.800000   \n",
       "max      900.000000  7.630000e+08     19.000000      100.000000   \n",
       "\n",
       "       days_exposition  \n",
       "count     23371.000000  \n",
       "mean        169.836721  \n",
       "std         206.758741  \n",
       "min           1.000000  \n",
       "25%          45.000000  \n",
       "50%          96.000000  \n",
       "75%         199.000000  \n",
       "max        1580.000000  "
      ]
     },
     "execution_count": 381,
     "metadata": {},
     "output_type": "execute_result"
    }
   ],
   "source": [
    "df[['total_area', 'last_price', 'rooms', 'ceiling_height', 'days_exposition']].describe()"
   ]
  },
  {
   "cell_type": "markdown",
   "metadata": {},
   "source": [
    "На данном этапе необходимо избавиться от выбросов. Создадим функцию, определяющую границы \"усов\" для задаваемого признака."
   ]
  },
  {
   "cell_type": "code",
   "execution_count": 382,
   "metadata": {},
   "outputs": [],
   "source": [
    "def det_whiskers(column):\n",
    "    stat = df[column].describe()\n",
    "    \n",
    "    # межквартильный размах\n",
    "    iqr = stat[6] - stat[4]\n",
    "    \n",
    "    # левый и правый \"ус\"    \n",
    "    left_whisker = round(stat[4] - 1.5 * iqr, 2)\n",
    "    right_whisker = round(stat[6] + 1.5 * iqr, 2)\n",
    "\n",
    "    # левый \"ус\" не должен быть меньше минимального значения\n",
    "    if left_whisker < stat[3]: left_whisker = stat[3] \n",
    "        \n",
    "    # правый \"ус\" не должен быть больше максимального значения\n",
    "    if right_whisker > stat[7]: right_whisker = stat[7]\n",
    "        \n",
    "    return [left_whisker, right_whisker]"
   ]
  },
  {
   "cell_type": "code",
   "execution_count": 383,
   "metadata": {},
   "outputs": [
    {
     "data": {
      "text/plain": [
       "[12.0, 114.7]"
      ]
     },
     "execution_count": 383,
     "metadata": {},
     "output_type": "execute_result"
    }
   ],
   "source": [
    "det_whiskers('total_area')"
   ]
  },
  {
   "cell_type": "code",
   "execution_count": 384,
   "metadata": {},
   "outputs": [
    {
     "data": {
      "image/png": "[encoded data removed]",
      "text/plain": [
       "<Figure size 432x288 with 1 Axes>"
      ]
     },
     "metadata": {
      "needs_background": "light"
     },
     "output_type": "display_data"
    }
   ],
   "source": [
    "# построим диаграмму размаха, ограничив площадь 150 кв.м\n",
    "sns.boxplot(df['total_area'])\n",
    "plt.title('Диаграмма размаха общей площади квартиры')\n",
    "plt.xlabel('Общая площадь, кв.м')\n",
    "plt.xlim(0, 150)\n",
    "plt.show()"
   ]
  },
  {
   "cell_type": "code",
   "execution_count": 385,
   "metadata": {},
   "outputs": [
    {
     "data": {
      "image/png": "[encoded data removed]",
      "text/plain": [
       "<Figure size 432x288 with 1 Axes>"
      ]
     },
     "metadata": {
      "needs_background": "light"
     },
     "output_type": "display_data"
    }
   ],
   "source": [
    "# Построим диаграмму для объектов с площадью менее 120 кв.м.\n",
    "sns.distplot(df['total_area'], kde=False, bins=45)\n",
    "plt.xlim(0, 120)\n",
    "plt.title('Гистограмма общей площади квартиры')\n",
    "plt.xlabel('Общая площадь, кв.м')\n",
    "plt.ylabel('Частота')\n",
    "plt.show()"
   ]
  },
  {
   "cell_type": "code",
   "execution_count": 386,
   "metadata": {},
   "outputs": [
    {
     "data": {
      "text/plain": [
       "'Аномальные значения составляют 5.3%'"
      ]
     },
     "execution_count": 386,
     "metadata": {},
     "output_type": "execute_result"
    }
   ],
   "source": [
    "#зададим функцию, вычисляющую долю аномальных значений\n",
    "def anomalies_ratio(column):\n",
    "    return 'Аномальные значения составляют {:.1%}'. format(len(df.loc[df[column] > det_whiskers(column)[1]]) / len(df))\n",
    "anomalies_ratio('total_area')"
   ]
  },
  {
   "cell_type": "code",
   "execution_count": 387,
   "metadata": {},
   "outputs": [
    {
     "data": {
      "text/plain": [
       "[12190.0, 11825000.0]"
      ]
     },
     "execution_count": 387,
     "metadata": {},
     "output_type": "execute_result"
    }
   ],
   "source": [
    "det_whiskers('last_price')"
   ]
  },
  {
   "cell_type": "code",
   "execution_count": 388,
   "metadata": {},
   "outputs": [
    {
     "data": {
      "image/png": "[encoded data removed]",
      "text/plain": [
       "<Figure size 432x288 with 1 Axes>"
      ]
     },
     "metadata": {
      "needs_background": "light"
     },
     "output_type": "display_data"
    }
   ],
   "source": [
    "sns.boxplot(df['last_price'])\n",
    "plt.title('Диаграмма размаха цен на квартиры')\n",
    "plt.xlabel('Цены, 10 млн рублей')\n",
    "_ = plt.xlim(0, 13000000)"
   ]
  },
  {
   "cell_type": "code",
   "execution_count": 389,
   "metadata": {},
   "outputs": [
    {
     "data": {
      "image/png": "[encoded data removed]",
      "text/plain": [
       "<Figure size 432x288 with 1 Axes>"
      ]
     },
     "metadata": {
      "needs_background": "light"
     },
     "output_type": "display_data"
    }
   ],
   "source": [
    "sns.distplot(df['last_price'], kde=False, bins=450)\n",
    "plt.xlim(0, 13000000)\n",
    "plt.title('Гистограмма цен на момент снятия публикации')\n",
    "plt.xlabel('Цены, 10 млн рублей')\n",
    "_ = plt.ylabel('Частота')"
   ]
  },
  {
   "cell_type": "code",
   "execution_count": 390,
   "metadata": {},
   "outputs": [
    {
     "data": {
      "text/plain": [
       "'Аномальные значения составляют 8.8%'"
      ]
     },
     "execution_count": 390,
     "metadata": {},
     "output_type": "execute_result"
    }
   ],
   "source": [
    "anomalies_ratio('last_price')"
   ]
  },
  {
   "cell_type": "code",
   "execution_count": 391,
   "metadata": {},
   "outputs": [
    {
     "data": {
      "text/plain": [
       "[1.0, 6.0]"
      ]
     },
     "execution_count": 391,
     "metadata": {},
     "output_type": "execute_result"
    }
   ],
   "source": [
    "det_whiskers('rooms')"
   ]
  },
  {
   "cell_type": "code",
   "execution_count": 392,
   "metadata": {},
   "outputs": [
    {
     "data": {
      "image/png": "[encoded data removed]",
      "text/plain": [
       "<Figure size 432x288 with 1 Axes>"
      ]
     },
     "metadata": {
      "needs_background": "light"
     },
     "output_type": "display_data"
    }
   ],
   "source": [
    "sns.boxplot(df['rooms'])\n",
    "plt.title('Диаграмма размаха количества комнат')\n",
    "plt.xlabel('Число комнат, шт.')\n",
    "_ = plt.xlim(0, 10)"
   ]
  },
  {
   "cell_type": "code",
   "execution_count": 393,
   "metadata": {},
   "outputs": [
    {
     "data": {
      "image/png": "[encoded data removed]",
      "text/plain": [
       "<Figure size 432x288 with 1 Axes>"
      ]
     },
     "metadata": {
      "needs_background": "light"
     },
     "output_type": "display_data"
    }
   ],
   "source": [
    "sns.distplot(df['rooms'], kde=False, bins=20)\n",
    "plt.xlim(0, 6)\n",
    "plt.title('Гистограмма числа комнат')\n",
    "plt.xlabel('Число комнат, шт.')\n",
    "_ = plt.ylabel('Частота')"
   ]
  },
  {
   "cell_type": "code",
   "execution_count": 394,
   "metadata": {},
   "outputs": [
    {
     "data": {
      "text/plain": [
       "'Аномальные значения составляют 0.4%'"
      ]
     },
     "execution_count": 394,
     "metadata": {},
     "output_type": "execute_result"
    }
   ],
   "source": [
    "anomalies_ratio('rooms')"
   ]
  },
  {
   "cell_type": "code",
   "execution_count": 395,
   "metadata": {},
   "outputs": [
    {
     "data": {
      "text/plain": [
       "[2.07, 3.24]"
      ]
     },
     "execution_count": 395,
     "metadata": {},
     "output_type": "execute_result"
    }
   ],
   "source": [
    "det_whiskers('ceiling_height')"
   ]
  },
  {
   "cell_type": "code",
   "execution_count": 396,
   "metadata": {},
   "outputs": [
    {
     "data": {
      "image/png": "[encoded data removed]",
      "text/plain": [
       "<Figure size 432x288 with 1 Axes>"
      ]
     },
     "metadata": {
      "needs_background": "light"
     },
     "output_type": "display_data"
    }
   ],
   "source": [
    "sns.boxplot(df['ceiling_height'])\n",
    "plt.title('Диаграмма размаха высоты потолков')\n",
    "plt.xlabel('Высота потолков, м')\n",
    "_ = plt.xlim(1, 4)"
   ]
  },
  {
   "cell_type": "code",
   "execution_count": 397,
   "metadata": {},
   "outputs": [
    {
     "data": {
      "image/png": "[encoded data removed]",
      "text/plain": [
       "<Figure size 432x288 with 1 Axes>"
      ]
     },
     "metadata": {
      "needs_background": "light"
     },
     "output_type": "display_data"
    }
   ],
   "source": [
    "sns.distplot(df['ceiling_height'], kde=False, bins=750)\n",
    "plt.xlim(det_whiskers('ceiling_height')[0], det_whiskers('ceiling_height')[1])\n",
    "plt.title('Гистограмма высоты потолков')\n",
    "plt.xlabel('Высота потолков, м')\n",
    "_ = plt.ylabel('Частота')"
   ]
  },
  {
   "cell_type": "code",
   "execution_count": 398,
   "metadata": {},
   "outputs": [
    {
     "data": {
      "text/plain": [
       "'Аномальные значения составляют 3.4%'"
      ]
     },
     "execution_count": 398,
     "metadata": {},
     "output_type": "execute_result"
    }
   ],
   "source": [
    "anomalies_ratio('ceiling_height')"
   ]
  },
  {
   "cell_type": "code",
   "execution_count": 399,
   "metadata": {},
   "outputs": [
    {
     "data": {
      "text/plain": [
       "[1.0, 430.0]"
      ]
     },
     "execution_count": 399,
     "metadata": {},
     "output_type": "execute_result"
    }
   ],
   "source": [
    "det_whiskers('days_exposition')"
   ]
  },
  {
   "cell_type": "code",
   "execution_count": 400,
   "metadata": {},
   "outputs": [
    {
     "data": {
      "image/png": "[encoded data removed]",
      "text/plain": [
       "<Figure size 432x288 with 1 Axes>"
      ]
     },
     "metadata": {
      "needs_background": "light"
     },
     "output_type": "display_data"
    }
   ],
   "source": [
    "sns.boxplot(df['days_exposition'])\n",
    "plt.title('Диаграмма размаха срока размещения объявления')\n",
    "plt.xlabel('Срок размещения, дней')\n",
    "_ = plt.xlim(0, 450)"
   ]
  },
  {
   "cell_type": "code",
   "execution_count": 401,
   "metadata": {},
   "outputs": [
    {
     "data": {
      "image/png": "[encoded data removed]",
      "text/plain": [
       "<Figure size 432x288 with 1 Axes>"
      ]
     },
     "metadata": {
      "needs_background": "light"
     },
     "output_type": "display_data"
    }
   ],
   "source": [
    "df.plot(y='days_exposition', \n",
    "          kind='hist',\n",
    "          range=(det_whiskers('days_exposition')[0], det_whiskers('days_exposition')[1]), \n",
    "          bins=8)\n",
    "plt.title('Гистограмма срока размещения объявления')\n",
    "plt.xlabel('Срок размещения, дней')\n",
    "_ = plt.ylabel('Частота')"
   ]
  },
  {
   "cell_type": "code",
   "execution_count": 402,
   "metadata": {},
   "outputs": [
    {
     "name": "stdout",
     "output_type": "stream",
     "text": [
      "Доля чистых значений составила: 66.8%\n"
     ]
    }
   ],
   "source": [
    "#Соберем все аномальные значения в отдельные столбцы\n",
    "df['too_large_area'] = df['total_area'] > det_whiskers('total_area')[1]\n",
    "df['too_expensive'] = df['last_price'] > det_whiskers('last_price')[1]\n",
    "df['too_many_rooms'] = df['rooms'] > det_whiskers('rooms')[1]\n",
    "df['unusual_ceiling'] = (df['ceiling_height'] > det_whiskers('ceiling_height')[1]) \\\n",
    "                        | (df['ceiling_height'] < det_whiskers('ceiling_height')[0])\n",
    "df['too_slow'] = df['days_exposition'] > det_whiskers('days_exposition')[1]\n",
    "df['too_fast'] = df['days_exposition'] < 30\n",
    "\n",
    "#Составим таблицу с чистыми данными\n",
    "good_df = df[(df['too_large_area'] == False) & \n",
    "     (df['too_expensive'] == False) &\n",
    "     (df['too_many_rooms'] == False) &\n",
    "     (df['unusual_ceiling'] == False) &\n",
    "     (df['too_slow'] == False) &\n",
    "     (df['too_fast'] == False)].reset_index(drop=True)\n",
    "\n",
    "print('Доля чистых значений составила: {:.1%}'. format(len(good_df) / len(df)))"
   ]
  },
  {
   "cell_type": "code",
   "execution_count": 403,
   "metadata": {},
   "outputs": [
    {
     "data": {
      "text/html": [
       "<div>\n",
       "<style scoped>\n",
       "    .dataframe tbody tr th:only-of-type {\n",
       "        vertical-align: middle;\n",
       "    }\n",
       "\n",
       "    .dataframe tbody tr th {\n",
       "        vertical-align: top;\n",
       "    }\n",
       "\n",
       "    .dataframe thead th {\n",
       "        text-align: right;\n",
       "    }\n",
       "</style>\n",
       "<table border=\"1\" class=\"dataframe\">\n",
       "  <thead>\n",
       "    <tr style=\"text-align: right;\">\n",
       "      <th></th>\n",
       "      <th>total_area</th>\n",
       "      <th>last_price</th>\n",
       "      <th>rooms</th>\n",
       "      <th>ceiling_height</th>\n",
       "      <th>days_exposition</th>\n",
       "    </tr>\n",
       "  </thead>\n",
       "  <tbody>\n",
       "    <tr>\n",
       "      <td>count</td>\n",
       "      <td>15605.000000</td>\n",
       "      <td>1.560500e+04</td>\n",
       "      <td>15605.000000</td>\n",
       "      <td>9411.000000</td>\n",
       "      <td>15605.000000</td>\n",
       "    </tr>\n",
       "    <tr>\n",
       "      <td>mean</td>\n",
       "      <td>52.711752</td>\n",
       "      <td>4.758105e+06</td>\n",
       "      <td>1.930855</td>\n",
       "      <td>2.659139</td>\n",
       "      <td>131.298302</td>\n",
       "    </tr>\n",
       "    <tr>\n",
       "      <td>std</td>\n",
       "      <td>17.253363</td>\n",
       "      <td>2.166745e+06</td>\n",
       "      <td>0.866299</td>\n",
       "      <td>0.171356</td>\n",
       "      <td>94.293549</td>\n",
       "    </tr>\n",
       "    <tr>\n",
       "      <td>min</td>\n",
       "      <td>12.000000</td>\n",
       "      <td>4.300000e+05</td>\n",
       "      <td>1.000000</td>\n",
       "      <td>2.200000</td>\n",
       "      <td>30.000000</td>\n",
       "    </tr>\n",
       "    <tr>\n",
       "      <td>25%</td>\n",
       "      <td>39.300000</td>\n",
       "      <td>3.300000e+06</td>\n",
       "      <td>1.000000</td>\n",
       "      <td>2.500000</td>\n",
       "      <td>61.000000</td>\n",
       "    </tr>\n",
       "    <tr>\n",
       "      <td>50%</td>\n",
       "      <td>49.400000</td>\n",
       "      <td>4.390000e+06</td>\n",
       "      <td>2.000000</td>\n",
       "      <td>2.600000</td>\n",
       "      <td>96.000000</td>\n",
       "    </tr>\n",
       "    <tr>\n",
       "      <td>75%</td>\n",
       "      <td>63.000000</td>\n",
       "      <td>5.900000e+06</td>\n",
       "      <td>3.000000</td>\n",
       "      <td>2.750000</td>\n",
       "      <td>169.000000</td>\n",
       "    </tr>\n",
       "    <tr>\n",
       "      <td>max</td>\n",
       "      <td>114.300000</td>\n",
       "      <td>1.180967e+07</td>\n",
       "      <td>6.000000</td>\n",
       "      <td>3.240000</td>\n",
       "      <td>430.000000</td>\n",
       "    </tr>\n",
       "  </tbody>\n",
       "</table>\n",
       "</div>"
      ],
      "text/plain": [
       "         total_area    last_price         rooms  ceiling_height  \\\n",
       "count  15605.000000  1.560500e+04  15605.000000     9411.000000   \n",
       "mean      52.711752  4.758105e+06      1.930855        2.659139   \n",
       "std       17.253363  2.166745e+06      0.866299        0.171356   \n",
       "min       12.000000  4.300000e+05      1.000000        2.200000   \n",
       "25%       39.300000  3.300000e+06      1.000000        2.500000   \n",
       "50%       49.400000  4.390000e+06      2.000000        2.600000   \n",
       "75%       63.000000  5.900000e+06      3.000000        2.750000   \n",
       "max      114.300000  1.180967e+07      6.000000        3.240000   \n",
       "\n",
       "       days_exposition  \n",
       "count     15605.000000  \n",
       "mean        131.298302  \n",
       "std          94.293549  \n",
       "min          30.000000  \n",
       "25%          61.000000  \n",
       "50%          96.000000  \n",
       "75%         169.000000  \n",
       "max         430.000000  "
      ]
     },
     "execution_count": 403,
     "metadata": {},
     "output_type": "execute_result"
    }
   ],
   "source": [
    "good_df[['total_area', 'last_price', 'rooms', 'ceiling_height', 'days_exposition']].describe()"
   ]
  },
  {
   "cell_type": "markdown",
   "metadata": {},
   "source": [
    "### Вывод:"
   ]
  },
  {
   "cell_type": "markdown",
   "metadata": {},
   "source": [
    "Исследовав данные, мы теперь можем определить параметры средней квартиры выставленной на продажу:\n",
    "1. двухкомнатная квартира;\n",
    "2. площадь 52 квадратных метра;\n",
    "3. потолки 2.65 метра;\n",
    "4. цена 4,76 млн.;\n",
    "5. время продажи 95 дней;\n",
    "\n",
    "Какие аномальные значения были найдены:\n",
    "\n",
    "1. квартиры с 7 и более комнатами;\n",
    "2. квартиры с площадями от 150 квадратов (возможно это коттеджи или таунхаусы);\n",
    "3. низкие потолки до 2 метров и очень большие от 4 метров;\n",
    "4. огромные цены в 20,30 и больше млн.\n",
    "5. квартиры размещенные более года назад\n",
    "\n",
    "Очень долгими продажами можно признать квартиры которые висели больше 12 месяцев - это говорит о завышенной цене или других неприятных факторах, отталкивающих покупателей. Если квартира продавалась за 30 дней и меньше, то это говорит либо об очень заниженной цене при срочной продаже, либо о мошеннических схемах, особенно это касается объявлений снятых через считанные дни."
   ]
  },
  {
   "cell_type": "code",
   "execution_count": 404,
   "metadata": {},
   "outputs": [
    {
     "name": "stdout",
     "output_type": "stream",
     "text": [
      "<class 'pandas.core.frame.DataFrame'>\n",
      "RangeIndex: 15605 entries, 0 to 15604\n",
      "Data columns (total 35 columns):\n",
      "locality_name           15605 non-null object\n",
      "total_area              15605 non-null float64\n",
      "living_area             15605 non-null float64\n",
      "kitchen_area            15605 non-null float64\n",
      "ceiling_height          9411 non-null float64\n",
      "rooms                   15605 non-null int64\n",
      "balcony                 15605 non-null int64\n",
      "floor                   15605 non-null int64\n",
      "floors_total            15605 non-null int64\n",
      "is_apartment            15605 non-null object\n",
      "studio                  15605 non-null bool\n",
      "open_plan               15605 non-null bool\n",
      "total_images            15605 non-null int64\n",
      "last_price              15605 non-null int64\n",
      "first_day_exposition    15605 non-null datetime64[ns]\n",
      "days_exposition         15605 non-null int64\n",
      "citycenter_m            11372 non-null float64\n",
      "airports_m              11413 non-null float64\n",
      "parks_3km               11413 non-null float64\n",
      "parks_nearest_m         4643 non-null float64\n",
      "ponds_3km               11413 non-null float64\n",
      "ponds_nearest_m         5365 non-null float64\n",
      "price_meter             15605 non-null float64\n",
      "number_day              15605 non-null int64\n",
      "month                   15605 non-null int64\n",
      "year                    15605 non-null int64\n",
      "new_floor               15605 non-null object\n",
      "living_area_ratio       15605 non-null float64\n",
      "kitchen_area_ratio      15605 non-null float64\n",
      "too_large_area          15605 non-null bool\n",
      "too_expensive           15605 non-null bool\n",
      "too_many_rooms          15605 non-null bool\n",
      "unusual_ceiling         15605 non-null bool\n",
      "too_slow                15605 non-null bool\n",
      "too_fast                15605 non-null bool\n",
      "dtypes: bool(8), datetime64[ns](1), float64(13), int64(10), object(3)\n",
      "memory usage: 3.3+ MB\n"
     ]
    }
   ],
   "source": [
    "good_df.info()"
   ]
  },
  {
   "cell_type": "code",
   "execution_count": 405,
   "metadata": {},
   "outputs": [
    {
     "data": {
      "text/html": [
       "<style  type=\"text/css\" >\n",
       "    #T_f5720ace_d4fd_11ea_8395_02420a3968bfrow0_col0 {\n",
       "            background-color:  #b40426;\n",
       "            color:  #f1f1f1;\n",
       "        }    #T_f5720ace_d4fd_11ea_8395_02420a3968bfrow0_col1 {\n",
       "            background-color:  #f7a98b;\n",
       "            color:  #000000;\n",
       "        }    #T_f5720ace_d4fd_11ea_8395_02420a3968bfrow0_col2 {\n",
       "            background-color:  #dbdcde;\n",
       "            color:  #000000;\n",
       "        }    #T_f5720ace_d4fd_11ea_8395_02420a3968bfrow0_col3 {\n",
       "            background-color:  #9bbcff;\n",
       "            color:  #000000;\n",
       "        }    #T_f5720ace_d4fd_11ea_8395_02420a3968bfrow0_col4 {\n",
       "            background-color:  #3b4cc0;\n",
       "            color:  #f1f1f1;\n",
       "        }    #T_f5720ace_d4fd_11ea_8395_02420a3968bfrow0_col5 {\n",
       "            background-color:  #3b4cc0;\n",
       "            color:  #f1f1f1;\n",
       "        }    #T_f5720ace_d4fd_11ea_8395_02420a3968bfrow0_col6 {\n",
       "            background-color:  #88abfd;\n",
       "            color:  #000000;\n",
       "        }    #T_f5720ace_d4fd_11ea_8395_02420a3968bfrow0_col7 {\n",
       "            background-color:  #90b2fe;\n",
       "            color:  #000000;\n",
       "        }    #T_f5720ace_d4fd_11ea_8395_02420a3968bfrow1_col0 {\n",
       "            background-color:  #f39577;\n",
       "            color:  #000000;\n",
       "        }    #T_f5720ace_d4fd_11ea_8395_02420a3968bfrow1_col1 {\n",
       "            background-color:  #b40426;\n",
       "            color:  #f1f1f1;\n",
       "        }    #T_f5720ace_d4fd_11ea_8395_02420a3968bfrow1_col2 {\n",
       "            background-color:  #e9785d;\n",
       "            color:  #000000;\n",
       "        }    #T_f5720ace_d4fd_11ea_8395_02420a3968bfrow1_col3 {\n",
       "            background-color:  #6384eb;\n",
       "            color:  #000000;\n",
       "        }    #T_f5720ace_d4fd_11ea_8395_02420a3968bfrow1_col4 {\n",
       "            background-color:  #7295f4;\n",
       "            color:  #000000;\n",
       "        }    #T_f5720ace_d4fd_11ea_8395_02420a3968bfrow1_col5 {\n",
       "            background-color:  #3c4ec2;\n",
       "            color:  #f1f1f1;\n",
       "        }    #T_f5720ace_d4fd_11ea_8395_02420a3968bfrow1_col6 {\n",
       "            background-color:  #89acfd;\n",
       "            color:  #000000;\n",
       "        }    #T_f5720ace_d4fd_11ea_8395_02420a3968bfrow1_col7 {\n",
       "            background-color:  #80a3fa;\n",
       "            color:  #000000;\n",
       "        }    #T_f5720ace_d4fd_11ea_8395_02420a3968bfrow2_col0 {\n",
       "            background-color:  #ead5c9;\n",
       "            color:  #000000;\n",
       "        }    #T_f5720ace_d4fd_11ea_8395_02420a3968bfrow2_col1 {\n",
       "            background-color:  #eb7d62;\n",
       "            color:  #000000;\n",
       "        }    #T_f5720ace_d4fd_11ea_8395_02420a3968bfrow2_col2 {\n",
       "            background-color:  #b40426;\n",
       "            color:  #f1f1f1;\n",
       "        }    #T_f5720ace_d4fd_11ea_8395_02420a3968bfrow2_col3 {\n",
       "            background-color:  #3b4cc0;\n",
       "            color:  #f1f1f1;\n",
       "        }    #T_f5720ace_d4fd_11ea_8395_02420a3968bfrow2_col4 {\n",
       "            background-color:  #7b9ff9;\n",
       "            color:  #000000;\n",
       "        }    #T_f5720ace_d4fd_11ea_8395_02420a3968bfrow2_col5 {\n",
       "            background-color:  #3f53c6;\n",
       "            color:  #f1f1f1;\n",
       "        }    #T_f5720ace_d4fd_11ea_8395_02420a3968bfrow2_col6 {\n",
       "            background-color:  #86a9fc;\n",
       "            color:  #000000;\n",
       "        }    #T_f5720ace_d4fd_11ea_8395_02420a3968bfrow2_col7 {\n",
       "            background-color:  #84a7fc;\n",
       "            color:  #000000;\n",
       "        }    #T_f5720ace_d4fd_11ea_8395_02420a3968bfrow3_col0 {\n",
       "            background-color:  #b7cff9;\n",
       "            color:  #000000;\n",
       "        }    #T_f5720ace_d4fd_11ea_8395_02420a3968bfrow3_col1 {\n",
       "            background-color:  #506bda;\n",
       "            color:  #000000;\n",
       "        }    #T_f5720ace_d4fd_11ea_8395_02420a3968bfrow3_col2 {\n",
       "            background-color:  #3b4cc0;\n",
       "            color:  #f1f1f1;\n",
       "        }    #T_f5720ace_d4fd_11ea_8395_02420a3968bfrow3_col3 {\n",
       "            background-color:  #b40426;\n",
       "            color:  #f1f1f1;\n",
       "        }    #T_f5720ace_d4fd_11ea_8395_02420a3968bfrow3_col4 {\n",
       "            background-color:  #84a7fc;\n",
       "            color:  #000000;\n",
       "        }    #T_f5720ace_d4fd_11ea_8395_02420a3968bfrow3_col5 {\n",
       "            background-color:  #4055c8;\n",
       "            color:  #f1f1f1;\n",
       "        }    #T_f5720ace_d4fd_11ea_8395_02420a3968bfrow3_col6 {\n",
       "            background-color:  #89acfd;\n",
       "            color:  #000000;\n",
       "        }    #T_f5720ace_d4fd_11ea_8395_02420a3968bfrow3_col7 {\n",
       "            background-color:  #82a6fb;\n",
       "            color:  #000000;\n",
       "        }    #T_f5720ace_d4fd_11ea_8395_02420a3968bfrow4_col0 {\n",
       "            background-color:  #3b4cc0;\n",
       "            color:  #f1f1f1;\n",
       "        }    #T_f5720ace_d4fd_11ea_8395_02420a3968bfrow4_col1 {\n",
       "            background-color:  #3b4cc0;\n",
       "            color:  #f1f1f1;\n",
       "        }    #T_f5720ace_d4fd_11ea_8395_02420a3968bfrow4_col2 {\n",
       "            background-color:  #5875e1;\n",
       "            color:  #000000;\n",
       "        }    #T_f5720ace_d4fd_11ea_8395_02420a3968bfrow4_col3 {\n",
       "            background-color:  #6180e9;\n",
       "            color:  #000000;\n",
       "        }    #T_f5720ace_d4fd_11ea_8395_02420a3968bfrow4_col4 {\n",
       "            background-color:  #b40426;\n",
       "            color:  #f1f1f1;\n",
       "        }    #T_f5720ace_d4fd_11ea_8395_02420a3968bfrow4_col5 {\n",
       "            background-color:  #4055c8;\n",
       "            color:  #f1f1f1;\n",
       "        }    #T_f5720ace_d4fd_11ea_8395_02420a3968bfrow4_col6 {\n",
       "            background-color:  #80a3fa;\n",
       "            color:  #000000;\n",
       "        }    #T_f5720ace_d4fd_11ea_8395_02420a3968bfrow4_col7 {\n",
       "            background-color:  #86a9fc;\n",
       "            color:  #000000;\n",
       "        }    #T_f5720ace_d4fd_11ea_8395_02420a3968bfrow5_col0 {\n",
       "            background-color:  #86a9fc;\n",
       "            color:  #000000;\n",
       "        }    #T_f5720ace_d4fd_11ea_8395_02420a3968bfrow5_col1 {\n",
       "            background-color:  #516ddb;\n",
       "            color:  #000000;\n",
       "        }    #T_f5720ace_d4fd_11ea_8395_02420a3968bfrow5_col2 {\n",
       "            background-color:  #688aef;\n",
       "            color:  #000000;\n",
       "        }    #T_f5720ace_d4fd_11ea_8395_02420a3968bfrow5_col3 {\n",
       "            background-color:  #6a8bef;\n",
       "            color:  #000000;\n",
       "        }    #T_f5720ace_d4fd_11ea_8395_02420a3968bfrow5_col4 {\n",
       "            background-color:  #8caffe;\n",
       "            color:  #000000;\n",
       "        }    #T_f5720ace_d4fd_11ea_8395_02420a3968bfrow5_col5 {\n",
       "            background-color:  #b40426;\n",
       "            color:  #f1f1f1;\n",
       "        }    #T_f5720ace_d4fd_11ea_8395_02420a3968bfrow5_col6 {\n",
       "            background-color:  #85a8fc;\n",
       "            color:  #000000;\n",
       "        }    #T_f5720ace_d4fd_11ea_8395_02420a3968bfrow5_col7 {\n",
       "            background-color:  #84a7fc;\n",
       "            color:  #000000;\n",
       "        }    #T_f5720ace_d4fd_11ea_8395_02420a3968bfrow6_col0 {\n",
       "            background-color:  #8db0fe;\n",
       "            color:  #000000;\n",
       "        }    #T_f5720ace_d4fd_11ea_8395_02420a3968bfrow6_col1 {\n",
       "            background-color:  #5977e3;\n",
       "            color:  #000000;\n",
       "        }    #T_f5720ace_d4fd_11ea_8395_02420a3968bfrow6_col2 {\n",
       "            background-color:  #6a8bef;\n",
       "            color:  #000000;\n",
       "        }    #T_f5720ace_d4fd_11ea_8395_02420a3968bfrow6_col3 {\n",
       "            background-color:  #6e90f2;\n",
       "            color:  #000000;\n",
       "        }    #T_f5720ace_d4fd_11ea_8395_02420a3968bfrow6_col4 {\n",
       "            background-color:  #86a9fc;\n",
       "            color:  #000000;\n",
       "        }    #T_f5720ace_d4fd_11ea_8395_02420a3968bfrow6_col5 {\n",
       "            background-color:  #3f53c6;\n",
       "            color:  #f1f1f1;\n",
       "        }    #T_f5720ace_d4fd_11ea_8395_02420a3968bfrow6_col6 {\n",
       "            background-color:  #b40426;\n",
       "            color:  #f1f1f1;\n",
       "        }    #T_f5720ace_d4fd_11ea_8395_02420a3968bfrow6_col7 {\n",
       "            background-color:  #3b4cc0;\n",
       "            color:  #f1f1f1;\n",
       "        }    #T_f5720ace_d4fd_11ea_8395_02420a3968bfrow7_col0 {\n",
       "            background-color:  #96b7ff;\n",
       "            color:  #000000;\n",
       "        }    #T_f5720ace_d4fd_11ea_8395_02420a3968bfrow7_col1 {\n",
       "            background-color:  #506bda;\n",
       "            color:  #000000;\n",
       "        }    #T_f5720ace_d4fd_11ea_8395_02420a3968bfrow7_col2 {\n",
       "            background-color:  #6788ee;\n",
       "            color:  #000000;\n",
       "        }    #T_f5720ace_d4fd_11ea_8395_02420a3968bfrow7_col3 {\n",
       "            background-color:  #6687ed;\n",
       "            color:  #000000;\n",
       "        }    #T_f5720ace_d4fd_11ea_8395_02420a3968bfrow7_col4 {\n",
       "            background-color:  #8caffe;\n",
       "            color:  #000000;\n",
       "        }    #T_f5720ace_d4fd_11ea_8395_02420a3968bfrow7_col5 {\n",
       "            background-color:  #3e51c5;\n",
       "            color:  #f1f1f1;\n",
       "        }    #T_f5720ace_d4fd_11ea_8395_02420a3968bfrow7_col6 {\n",
       "            background-color:  #3b4cc0;\n",
       "            color:  #f1f1f1;\n",
       "        }    #T_f5720ace_d4fd_11ea_8395_02420a3968bfrow7_col7 {\n",
       "            background-color:  #b40426;\n",
       "            color:  #f1f1f1;\n",
       "        }</style><table id=\"T_f5720ace_d4fd_11ea_8395_02420a3968bf\" ><thead>    <tr>        <th class=\"blank level0\" ></th>        <th class=\"col_heading level0 col0\" >last_price</th>        <th class=\"col_heading level0 col1\" >total_area</th>        <th class=\"col_heading level0 col2\" >rooms</th>        <th class=\"col_heading level0 col3\" >floor</th>        <th class=\"col_heading level0 col4\" >citycenter_m</th>        <th class=\"col_heading level0 col5\" >number_day</th>        <th class=\"col_heading level0 col6\" >month</th>        <th class=\"col_heading level0 col7\" >year</th>    </tr></thead><tbody>\n",
       "                <tr>\n",
       "                        <th id=\"T_f5720ace_d4fd_11ea_8395_02420a3968bflevel0_row0\" class=\"row_heading level0 row0\" >last_price</th>\n",
       "                        <td id=\"T_f5720ace_d4fd_11ea_8395_02420a3968bfrow0_col0\" class=\"data row0 col0\" >1</td>\n",
       "                        <td id=\"T_f5720ace_d4fd_11ea_8395_02420a3968bfrow0_col1\" class=\"data row0 col1\" >0.680489</td>\n",
       "                        <td id=\"T_f5720ace_d4fd_11ea_8395_02420a3968bfrow0_col2\" class=\"data row0 col2\" >0.408532</td>\n",
       "                        <td id=\"T_f5720ace_d4fd_11ea_8395_02420a3968bfrow0_col3\" class=\"data row0 col3\" >0.169141</td>\n",
       "                        <td id=\"T_f5720ace_d4fd_11ea_8395_02420a3968bfrow0_col4\" class=\"data row0 col4\" >-0.324984</td>\n",
       "                        <td id=\"T_f5720ace_d4fd_11ea_8395_02420a3968bfrow0_col5\" class=\"data row0 col5\" >-0.0165025</td>\n",
       "                        <td id=\"T_f5720ace_d4fd_11ea_8395_02420a3968bfrow0_col6\" class=\"data row0 col6\" >0.00940912</td>\n",
       "                        <td id=\"T_f5720ace_d4fd_11ea_8395_02420a3968bfrow0_col7\" class=\"data row0 col7\" >0.0406776</td>\n",
       "            </tr>\n",
       "            <tr>\n",
       "                        <th id=\"T_f5720ace_d4fd_11ea_8395_02420a3968bflevel0_row1\" class=\"row_heading level0 row1\" >total_area</th>\n",
       "                        <td id=\"T_f5720ace_d4fd_11ea_8395_02420a3968bfrow1_col0\" class=\"data row1 col0\" >0.680489</td>\n",
       "                        <td id=\"T_f5720ace_d4fd_11ea_8395_02420a3968bfrow1_col1\" class=\"data row1 col1\" >1</td>\n",
       "                        <td id=\"T_f5720ace_d4fd_11ea_8395_02420a3968bfrow1_col2\" class=\"data row1 col2\" >0.798657</td>\n",
       "                        <td id=\"T_f5720ace_d4fd_11ea_8395_02420a3968bfrow1_col3\" class=\"data row1 col3\" >-0.0187113</td>\n",
       "                        <td id=\"T_f5720ace_d4fd_11ea_8395_02420a3968bfrow1_col4\" class=\"data row1 col4\" >-0.0960443</td>\n",
       "                        <td id=\"T_f5720ace_d4fd_11ea_8395_02420a3968bfrow1_col5\" class=\"data row1 col5\" >-0.0107685</td>\n",
       "                        <td id=\"T_f5720ace_d4fd_11ea_8395_02420a3968bfrow1_col6\" class=\"data row1 col6\" >0.0147161</td>\n",
       "                        <td id=\"T_f5720ace_d4fd_11ea_8395_02420a3968bfrow1_col7\" class=\"data row1 col7\" >-0.0184451</td>\n",
       "            </tr>\n",
       "            <tr>\n",
       "                        <th id=\"T_f5720ace_d4fd_11ea_8395_02420a3968bflevel0_row2\" class=\"row_heading level0 row2\" >rooms</th>\n",
       "                        <td id=\"T_f5720ace_d4fd_11ea_8395_02420a3968bfrow2_col0\" class=\"data row2 col0\" >0.408532</td>\n",
       "                        <td id=\"T_f5720ace_d4fd_11ea_8395_02420a3968bfrow2_col1\" class=\"data row2 col1\" >0.798657</td>\n",
       "                        <td id=\"T_f5720ace_d4fd_11ea_8395_02420a3968bfrow2_col2\" class=\"data row2 col2\" >1</td>\n",
       "                        <td id=\"T_f5720ace_d4fd_11ea_8395_02420a3968bfrow2_col3\" class=\"data row2 col3\" >-0.171176</td>\n",
       "                        <td id=\"T_f5720ace_d4fd_11ea_8395_02420a3968bfrow2_col4\" class=\"data row2 col4\" >-0.057504</td>\n",
       "                        <td id=\"T_f5720ace_d4fd_11ea_8395_02420a3968bfrow2_col5\" class=\"data row2 col5\" >0.00177758</td>\n",
       "                        <td id=\"T_f5720ace_d4fd_11ea_8395_02420a3968bfrow2_col6\" class=\"data row2 col6\" >0.00363837</td>\n",
       "                        <td id=\"T_f5720ace_d4fd_11ea_8395_02420a3968bfrow2_col7\" class=\"data row2 col7\" >-0.00349438</td>\n",
       "            </tr>\n",
       "            <tr>\n",
       "                        <th id=\"T_f5720ace_d4fd_11ea_8395_02420a3968bflevel0_row3\" class=\"row_heading level0 row3\" >floor</th>\n",
       "                        <td id=\"T_f5720ace_d4fd_11ea_8395_02420a3968bfrow3_col0\" class=\"data row3 col0\" >0.169141</td>\n",
       "                        <td id=\"T_f5720ace_d4fd_11ea_8395_02420a3968bfrow3_col1\" class=\"data row3 col1\" >-0.0187113</td>\n",
       "                        <td id=\"T_f5720ace_d4fd_11ea_8395_02420a3968bfrow3_col2\" class=\"data row3 col2\" >-0.171176</td>\n",
       "                        <td id=\"T_f5720ace_d4fd_11ea_8395_02420a3968bfrow3_col3\" class=\"data row3 col3\" >1</td>\n",
       "                        <td id=\"T_f5720ace_d4fd_11ea_8395_02420a3968bfrow3_col4\" class=\"data row3 col4\" >-0.0276529</td>\n",
       "                        <td id=\"T_f5720ace_d4fd_11ea_8395_02420a3968bfrow3_col5\" class=\"data row3 col5\" >0.00628911</td>\n",
       "                        <td id=\"T_f5720ace_d4fd_11ea_8395_02420a3968bfrow3_col6\" class=\"data row3 col6\" >0.0170552</td>\n",
       "                        <td id=\"T_f5720ace_d4fd_11ea_8395_02420a3968bfrow3_col7\" class=\"data row3 col7\" >-0.00832479</td>\n",
       "            </tr>\n",
       "            <tr>\n",
       "                        <th id=\"T_f5720ace_d4fd_11ea_8395_02420a3968bflevel0_row4\" class=\"row_heading level0 row4\" >citycenter_m</th>\n",
       "                        <td id=\"T_f5720ace_d4fd_11ea_8395_02420a3968bfrow4_col0\" class=\"data row4 col0\" >-0.324984</td>\n",
       "                        <td id=\"T_f5720ace_d4fd_11ea_8395_02420a3968bfrow4_col1\" class=\"data row4 col1\" >-0.0960443</td>\n",
       "                        <td id=\"T_f5720ace_d4fd_11ea_8395_02420a3968bfrow4_col2\" class=\"data row4 col2\" >-0.057504</td>\n",
       "                        <td id=\"T_f5720ace_d4fd_11ea_8395_02420a3968bfrow4_col3\" class=\"data row4 col3\" >-0.0276529</td>\n",
       "                        <td id=\"T_f5720ace_d4fd_11ea_8395_02420a3968bfrow4_col4\" class=\"data row4 col4\" >1</td>\n",
       "                        <td id=\"T_f5720ace_d4fd_11ea_8395_02420a3968bfrow4_col5\" class=\"data row4 col5\" >0.00577231</td>\n",
       "                        <td id=\"T_f5720ace_d4fd_11ea_8395_02420a3968bfrow4_col6\" class=\"data row4 col6\" >-0.0187061</td>\n",
       "                        <td id=\"T_f5720ace_d4fd_11ea_8395_02420a3968bfrow4_col7\" class=\"data row4 col7\" >0.00480977</td>\n",
       "            </tr>\n",
       "            <tr>\n",
       "                        <th id=\"T_f5720ace_d4fd_11ea_8395_02420a3968bflevel0_row5\" class=\"row_heading level0 row5\" >number_day</th>\n",
       "                        <td id=\"T_f5720ace_d4fd_11ea_8395_02420a3968bfrow5_col0\" class=\"data row5 col0\" >-0.0165025</td>\n",
       "                        <td id=\"T_f5720ace_d4fd_11ea_8395_02420a3968bfrow5_col1\" class=\"data row5 col1\" >-0.0107685</td>\n",
       "                        <td id=\"T_f5720ace_d4fd_11ea_8395_02420a3968bfrow5_col2\" class=\"data row5 col2\" >0.00177758</td>\n",
       "                        <td id=\"T_f5720ace_d4fd_11ea_8395_02420a3968bfrow5_col3\" class=\"data row5 col3\" >0.00628911</td>\n",
       "                        <td id=\"T_f5720ace_d4fd_11ea_8395_02420a3968bfrow5_col4\" class=\"data row5 col4\" >0.00577231</td>\n",
       "                        <td id=\"T_f5720ace_d4fd_11ea_8395_02420a3968bfrow5_col5\" class=\"data row5 col5\" >1</td>\n",
       "                        <td id=\"T_f5720ace_d4fd_11ea_8395_02420a3968bfrow5_col6\" class=\"data row5 col6\" >0.00154647</td>\n",
       "                        <td id=\"T_f5720ace_d4fd_11ea_8395_02420a3968bfrow5_col7\" class=\"data row5 col7\" >-0.00390297</td>\n",
       "            </tr>\n",
       "            <tr>\n",
       "                        <th id=\"T_f5720ace_d4fd_11ea_8395_02420a3968bflevel0_row6\" class=\"row_heading level0 row6\" >month</th>\n",
       "                        <td id=\"T_f5720ace_d4fd_11ea_8395_02420a3968bfrow6_col0\" class=\"data row6 col0\" >0.00940912</td>\n",
       "                        <td id=\"T_f5720ace_d4fd_11ea_8395_02420a3968bfrow6_col1\" class=\"data row6 col1\" >0.0147161</td>\n",
       "                        <td id=\"T_f5720ace_d4fd_11ea_8395_02420a3968bfrow6_col2\" class=\"data row6 col2\" >0.00363837</td>\n",
       "                        <td id=\"T_f5720ace_d4fd_11ea_8395_02420a3968bfrow6_col3\" class=\"data row6 col3\" >0.0170552</td>\n",
       "                        <td id=\"T_f5720ace_d4fd_11ea_8395_02420a3968bfrow6_col4\" class=\"data row6 col4\" >-0.0187061</td>\n",
       "                        <td id=\"T_f5720ace_d4fd_11ea_8395_02420a3968bfrow6_col5\" class=\"data row6 col5\" >0.00154647</td>\n",
       "                        <td id=\"T_f5720ace_d4fd_11ea_8395_02420a3968bfrow6_col6\" class=\"data row6 col6\" >1</td>\n",
       "                        <td id=\"T_f5720ace_d4fd_11ea_8395_02420a3968bfrow6_col7\" class=\"data row6 col7\" >-0.296624</td>\n",
       "            </tr>\n",
       "            <tr>\n",
       "                        <th id=\"T_f5720ace_d4fd_11ea_8395_02420a3968bflevel0_row7\" class=\"row_heading level0 row7\" >year</th>\n",
       "                        <td id=\"T_f5720ace_d4fd_11ea_8395_02420a3968bfrow7_col0\" class=\"data row7 col0\" >0.0406776</td>\n",
       "                        <td id=\"T_f5720ace_d4fd_11ea_8395_02420a3968bfrow7_col1\" class=\"data row7 col1\" >-0.0184451</td>\n",
       "                        <td id=\"T_f5720ace_d4fd_11ea_8395_02420a3968bfrow7_col2\" class=\"data row7 col2\" >-0.00349438</td>\n",
       "                        <td id=\"T_f5720ace_d4fd_11ea_8395_02420a3968bfrow7_col3\" class=\"data row7 col3\" >-0.00832479</td>\n",
       "                        <td id=\"T_f5720ace_d4fd_11ea_8395_02420a3968bfrow7_col4\" class=\"data row7 col4\" >0.00480977</td>\n",
       "                        <td id=\"T_f5720ace_d4fd_11ea_8395_02420a3968bfrow7_col5\" class=\"data row7 col5\" >-0.00390297</td>\n",
       "                        <td id=\"T_f5720ace_d4fd_11ea_8395_02420a3968bfrow7_col6\" class=\"data row7 col6\" >-0.296624</td>\n",
       "                        <td id=\"T_f5720ace_d4fd_11ea_8395_02420a3968bfrow7_col7\" class=\"data row7 col7\" >1</td>\n",
       "            </tr>\n",
       "    </tbody></table>"
      ],
      "text/plain": [
       "<pandas.io.formats.style.Styler at 0x7f84f6a6b050>"
      ]
     },
     "execution_count": 405,
     "metadata": {},
     "output_type": "execute_result"
    }
   ],
   "source": [
    "#рассчитаем какие факторы больше всего влияют на стоимость квартиры\n",
    "corr = good_df[['last_price',\\\n",
    "           'total_area',\\\n",
    "           'rooms',\\\n",
    "           'floor',\\\n",
    "           'citycenter_m',\\\n",
    "           'number_day',\\\n",
    "           'month',\\\n",
    "            'year'    \n",
    "               ]].corr()\n",
    "corr.style.background_gradient(cmap='coolwarm')"
   ]
  },
  {
   "cell_type": "markdown",
   "metadata": {},
   "source": [
    "### Вывод:"
   ]
  },
  {
   "cell_type": "markdown",
   "metadata": {},
   "source": [
    "На цену квартиры сильнее всего влияет общая площадь и количество комнат, что в принципе было ожидаемо, небольшое влияние есть и от расстояния от центра. Этаж влияет значительно слабее, уже прошло то время когда везде покупатели писали: \"не первый и последний этаж\". День подачи объявления, как оказалось, вообще не влияет на цену, что в принципе логично."
   ]
  },
  {
   "cell_type": "code",
   "execution_count": 406,
   "metadata": {},
   "outputs": [
    {
     "data": {
      "text/html": [
       "<div>\n",
       "<style scoped>\n",
       "    .dataframe tbody tr th:only-of-type {\n",
       "        vertical-align: middle;\n",
       "    }\n",
       "\n",
       "    .dataframe tbody tr th {\n",
       "        vertical-align: top;\n",
       "    }\n",
       "\n",
       "    .dataframe thead th {\n",
       "        text-align: right;\n",
       "    }\n",
       "</style>\n",
       "<table border=\"1\" class=\"dataframe\">\n",
       "  <thead>\n",
       "    <tr style=\"text-align: right;\">\n",
       "      <th></th>\n",
       "      <th>count</th>\n",
       "      <th>median</th>\n",
       "      <th>mean</th>\n",
       "    </tr>\n",
       "    <tr>\n",
       "      <th>locality_name</th>\n",
       "      <th></th>\n",
       "      <th></th>\n",
       "      <th></th>\n",
       "    </tr>\n",
       "  </thead>\n",
       "  <tbody>\n",
       "    <tr>\n",
       "      <td>Санкт-Петербург</td>\n",
       "      <td>9619</td>\n",
       "      <td>102127.660</td>\n",
       "      <td>105605.585063</td>\n",
       "    </tr>\n",
       "    <tr>\n",
       "      <td>посёлок Мурино</td>\n",
       "      <td>349</td>\n",
       "      <td>84876.540</td>\n",
       "      <td>85034.916103</td>\n",
       "    </tr>\n",
       "    <tr>\n",
       "      <td>посёлок Шушары</td>\n",
       "      <td>334</td>\n",
       "      <td>76439.145</td>\n",
       "      <td>78605.457814</td>\n",
       "    </tr>\n",
       "    <tr>\n",
       "      <td>Всеволожск</td>\n",
       "      <td>307</td>\n",
       "      <td>65833.330</td>\n",
       "      <td>67398.749902</td>\n",
       "    </tr>\n",
       "    <tr>\n",
       "      <td>Пушкин</td>\n",
       "      <td>254</td>\n",
       "      <td>98482.570</td>\n",
       "      <td>99802.753937</td>\n",
       "    </tr>\n",
       "    <tr>\n",
       "      <td>посёлок Парголово</td>\n",
       "      <td>247</td>\n",
       "      <td>91346.150</td>\n",
       "      <td>90053.457490</td>\n",
       "    </tr>\n",
       "    <tr>\n",
       "      <td>Колпино</td>\n",
       "      <td>244</td>\n",
       "      <td>74324.320</td>\n",
       "      <td>74889.628484</td>\n",
       "    </tr>\n",
       "    <tr>\n",
       "      <td>Гатчина</td>\n",
       "      <td>232</td>\n",
       "      <td>67180.705</td>\n",
       "      <td>68565.285086</td>\n",
       "    </tr>\n",
       "    <tr>\n",
       "      <td>деревня Кудрово</td>\n",
       "      <td>203</td>\n",
       "      <td>91666.670</td>\n",
       "      <td>92798.212463</td>\n",
       "    </tr>\n",
       "    <tr>\n",
       "      <td>Выборг</td>\n",
       "      <td>179</td>\n",
       "      <td>57608.700</td>\n",
       "      <td>57653.546592</td>\n",
       "    </tr>\n",
       "  </tbody>\n",
       "</table>\n",
       "</div>"
      ],
      "text/plain": [
       "                   count      median           mean\n",
       "locality_name                                      \n",
       "Санкт-Петербург     9619  102127.660  105605.585063\n",
       "посёлок Мурино       349   84876.540   85034.916103\n",
       "посёлок Шушары       334   76439.145   78605.457814\n",
       "Всеволожск           307   65833.330   67398.749902\n",
       "Пушкин               254   98482.570   99802.753937\n",
       "посёлок Парголово    247   91346.150   90053.457490\n",
       "Колпино              244   74324.320   74889.628484\n",
       "Гатчина              232   67180.705   68565.285086\n",
       "деревня Кудрово      203   91666.670   92798.212463\n",
       "Выборг               179   57608.700   57653.546592"
      ]
     },
     "execution_count": 406,
     "metadata": {},
     "output_type": "execute_result"
    }
   ],
   "source": [
    "#выберем 10 населенных пункттов с большим количеством объявлений и рассчитаем в них цены за квадратный метр\n",
    "median_price_meter = good_df.pivot_table(index='locality_name', values='price_meter', aggfunc=['count', 'median', 'mean'])\n",
    "median_price_meter.columns = ['count', 'median', 'mean']\n",
    "median_price_meter.sort_values('count', ascending=False).head(10)"
   ]
  },
  {
   "cell_type": "markdown",
   "metadata": {},
   "source": [
    "### Вывод:"
   ]
  },
  {
   "cell_type": "markdown",
   "metadata": {},
   "source": [
    "Было ожидаемо что в Санкт-Петербурге больше всего предложений и средняя цена метра значительно выше всех остальных населенных пунктов. Ну а дешевые квадратные метры стоит искать в Выборге."
   ]
  },
  {
   "cell_type": "code",
   "execution_count": 407,
   "metadata": {},
   "outputs": [
    {
     "data": {
      "text/html": [
       "<div>\n",
       "<style scoped>\n",
       "    .dataframe tbody tr th:only-of-type {\n",
       "        vertical-align: middle;\n",
       "    }\n",
       "\n",
       "    .dataframe tbody tr th {\n",
       "        vertical-align: top;\n",
       "    }\n",
       "\n",
       "    .dataframe thead th {\n",
       "        text-align: right;\n",
       "    }\n",
       "</style>\n",
       "<table border=\"1\" class=\"dataframe\">\n",
       "  <thead>\n",
       "    <tr style=\"text-align: right;\">\n",
       "      <th></th>\n",
       "      <th>last_price</th>\n",
       "      <th>price_meter</th>\n",
       "    </tr>\n",
       "    <tr>\n",
       "      <th>citycenter_km</th>\n",
       "      <th></th>\n",
       "      <th></th>\n",
       "    </tr>\n",
       "  </thead>\n",
       "  <tbody>\n",
       "    <tr>\n",
       "      <td>0.0</td>\n",
       "      <td>6900000</td>\n",
       "      <td>108163.270</td>\n",
       "    </tr>\n",
       "    <tr>\n",
       "      <td>1.0</td>\n",
       "      <td>7750000</td>\n",
       "      <td>108856.435</td>\n",
       "    </tr>\n",
       "    <tr>\n",
       "      <td>2.0</td>\n",
       "      <td>7950000</td>\n",
       "      <td>116883.120</td>\n",
       "    </tr>\n",
       "    <tr>\n",
       "      <td>3.0</td>\n",
       "      <td>7325000</td>\n",
       "      <td>107783.785</td>\n",
       "    </tr>\n",
       "    <tr>\n",
       "      <td>4.0</td>\n",
       "      <td>7200000</td>\n",
       "      <td>110918.055</td>\n",
       "    </tr>\n",
       "  </tbody>\n",
       "</table>\n",
       "</div>"
      ],
      "text/plain": [
       "               last_price  price_meter\n",
       "citycenter_km                         \n",
       "0.0               6900000   108163.270\n",
       "1.0               7750000   108856.435\n",
       "2.0               7950000   116883.120\n",
       "3.0               7325000   107783.785\n",
       "4.0               7200000   110918.055"
      ]
     },
     "execution_count": 407,
     "metadata": {},
     "output_type": "execute_result"
    }
   ],
   "source": [
    "#Изучим квартиры в центре Санкт-Петербурга\n",
    "#выделим центр города\n",
    "df['citycenter_km'] = round(df['citycenter_m'] / 1000, 0)\n",
    "df['citycenter_km'] = df['citycenter_km'].astype('int', errors='ignore')\n",
    "#обновляем чистые данные столбцом с километрами до центра\n",
    "good_df = df[(df['too_large_area'] == False) & \n",
    "     (df['too_expensive'] == False) &\n",
    "     (df['too_many_rooms'] == False) &\n",
    "     (df['unusual_ceiling'] == False) &\n",
    "     (df['too_slow'] == False) &\n",
    "     (df['too_fast'] == False)].reset_index(drop=True)\n",
    "\n",
    "good_df.loc[(good_df['locality_name'] == 'Санкт-Петербург') & (good_df['citycenter_km'].notna()), 'citycenter_km'].apply(round)\n",
    "spb = good_df.query('locality_name == \"Санкт-Петербург\"')\n",
    "spb_center = spb.pivot_table(index='citycenter_km', values=['price_meter', 'last_price'], aggfunc='median')\n",
    "spb_center.head()"
   ]
  },
  {
   "cell_type": "code",
   "execution_count": 408,
   "metadata": {},
   "outputs": [
    {
     "data": {
      "image/png": "[encoded data removed]",
      "text/plain": [
       "<Figure size 432x288 with 1 Axes>"
      ]
     },
     "metadata": {
      "needs_background": "light"
     },
     "output_type": "display_data"
    }
   ],
   "source": [
    "#построим график зависимости цены от расстояние до центра\n",
    "sns.lineplot(x=spb_center.index, y='last_price', data=spb_center)\n",
    "plt.title('Зависимость средней цены от расстояния до центра Санкт-Петербурга')\n",
    "plt.ylabel('Цена недвижимости, руб.')\n",
    "plt.xlabel('Расстояние до центра, км')\n",
    "plt.show()"
   ]
  },
  {
   "cell_type": "code",
   "execution_count": 409,
   "metadata": {},
   "outputs": [],
   "source": [
    "#Как видим цена резко меняется начиная с 8 километра, область с таким радиусом и возьмем за центр города.\n",
    "spb_center = good_df[(good_df['citycenter_km'] <= 8) & (good_df['locality_name'] == 'Санкт-Петербург')]"
   ]
  },
  {
   "cell_type": "code",
   "execution_count": 410,
   "metadata": {},
   "outputs": [
    {
     "data": {
      "text/html": [
       "<div>\n",
       "<style scoped>\n",
       "    .dataframe tbody tr th:only-of-type {\n",
       "        vertical-align: middle;\n",
       "    }\n",
       "\n",
       "    .dataframe tbody tr th {\n",
       "        vertical-align: top;\n",
       "    }\n",
       "\n",
       "    .dataframe thead th {\n",
       "        text-align: right;\n",
       "    }\n",
       "</style>\n",
       "<table border=\"1\" class=\"dataframe\">\n",
       "  <thead>\n",
       "    <tr style=\"text-align: right;\">\n",
       "      <th></th>\n",
       "      <th>total_area</th>\n",
       "      <th>last_price</th>\n",
       "      <th>rooms</th>\n",
       "      <th>ceiling_height</th>\n",
       "    </tr>\n",
       "  </thead>\n",
       "  <tbody>\n",
       "    <tr>\n",
       "      <td>count</td>\n",
       "      <td>1667.000000</td>\n",
       "      <td>1.667000e+03</td>\n",
       "      <td>1667.000000</td>\n",
       "      <td>1018.000000</td>\n",
       "    </tr>\n",
       "    <tr>\n",
       "      <td>mean</td>\n",
       "      <td>62.498836</td>\n",
       "      <td>7.155791e+06</td>\n",
       "      <td>2.215957</td>\n",
       "      <td>2.862171</td>\n",
       "    </tr>\n",
       "    <tr>\n",
       "      <td>std</td>\n",
       "      <td>19.910057</td>\n",
       "      <td>2.132521e+06</td>\n",
       "      <td>0.912845</td>\n",
       "      <td>0.223490</td>\n",
       "    </tr>\n",
       "    <tr>\n",
       "      <td>min</td>\n",
       "      <td>12.000000</td>\n",
       "      <td>2.400000e+06</td>\n",
       "      <td>1.000000</td>\n",
       "      <td>2.400000</td>\n",
       "    </tr>\n",
       "    <tr>\n",
       "      <td>25%</td>\n",
       "      <td>46.200000</td>\n",
       "      <td>5.500000e+06</td>\n",
       "      <td>2.000000</td>\n",
       "      <td>2.700000</td>\n",
       "    </tr>\n",
       "    <tr>\n",
       "      <td>50%</td>\n",
       "      <td>60.900000</td>\n",
       "      <td>6.990000e+06</td>\n",
       "      <td>2.000000</td>\n",
       "      <td>2.900000</td>\n",
       "    </tr>\n",
       "    <tr>\n",
       "      <td>75%</td>\n",
       "      <td>76.000000</td>\n",
       "      <td>8.700000e+06</td>\n",
       "      <td>3.000000</td>\n",
       "      <td>3.000000</td>\n",
       "    </tr>\n",
       "    <tr>\n",
       "      <td>max</td>\n",
       "      <td>114.200000</td>\n",
       "      <td>1.180967e+07</td>\n",
       "      <td>6.000000</td>\n",
       "      <td>3.240000</td>\n",
       "    </tr>\n",
       "  </tbody>\n",
       "</table>\n",
       "</div>"
      ],
      "text/plain": [
       "        total_area    last_price        rooms  ceiling_height\n",
       "count  1667.000000  1.667000e+03  1667.000000     1018.000000\n",
       "mean     62.498836  7.155791e+06     2.215957        2.862171\n",
       "std      19.910057  2.132521e+06     0.912845        0.223490\n",
       "min      12.000000  2.400000e+06     1.000000        2.400000\n",
       "25%      46.200000  5.500000e+06     2.000000        2.700000\n",
       "50%      60.900000  6.990000e+06     2.000000        2.900000\n",
       "75%      76.000000  8.700000e+06     3.000000        3.000000\n",
       "max     114.200000  1.180967e+07     6.000000        3.240000"
      ]
     },
     "execution_count": 410,
     "metadata": {},
     "output_type": "execute_result"
    }
   ],
   "source": [
    "#проанализируем центральную территорию и изучим параметры: площадь, цена, число комнат, высота потолков.\n",
    "spb_center[['total_area', 'last_price', 'rooms', 'ceiling_height']].describe()"
   ]
  },
  {
   "cell_type": "code",
   "execution_count": 411,
   "metadata": {},
   "outputs": [
    {
     "data": {
      "image/png": "[encoded data removed]",
      "text/plain": [
       "<Figure size 432x288 with 1 Axes>"
      ]
     },
     "metadata": {
      "needs_background": "light"
     },
     "output_type": "display_data"
    }
   ],
   "source": [
    "#площадь\n",
    "sns.boxplot(spb_center['total_area'])\n",
    "plt.title('Диаграмма размаха общей площади')\n",
    "plt.xlabel('Общая площадь, кв. м')\n",
    "plt.show()"
   ]
  },
  {
   "cell_type": "code",
   "execution_count": 412,
   "metadata": {},
   "outputs": [
    {
     "data": {
      "image/png": "[encoded data removed]",
      "text/plain": [
       "<Figure size 432x288 with 1 Axes>"
      ]
     },
     "metadata": {
      "needs_background": "light"
     },
     "output_type": "display_data"
    }
   ],
   "source": [
    "#цена\n",
    "sns.boxplot(spb_center['last_price'])\n",
    "plt.title('Диаграмма размаха цены квартиры')\n",
    "plt.xlabel('Цена, 10 млн рублей')\n",
    "plt.show()"
   ]
  },
  {
   "cell_type": "code",
   "execution_count": 413,
   "metadata": {},
   "outputs": [
    {
     "data": {
      "image/png": "[encoded data removed]",
      "text/plain": [
       "<Figure size 432x288 with 1 Axes>"
      ]
     },
     "metadata": {
      "needs_background": "light"
     },
     "output_type": "display_data"
    }
   ],
   "source": [
    "#число комнат\n",
    "sns.boxplot(spb_center['rooms'])\n",
    "plt.title('Диаграмма размаха числа комнат')\n",
    "plt.xlabel('Число комнат, шт.')\n",
    "plt.show()"
   ]
  },
  {
   "cell_type": "code",
   "execution_count": 414,
   "metadata": {},
   "outputs": [
    {
     "data": {
      "image/png": "[encoded data removed]",
      "text/plain": [
       "<Figure size 432x288 with 1 Axes>"
      ]
     },
     "metadata": {
      "needs_background": "light"
     },
     "output_type": "display_data"
    }
   ],
   "source": [
    "#высота потолков\n",
    "sns.boxplot(spb_center['ceiling_height'])\n",
    "plt.title('Диаграмма размаха высоты потолков')\n",
    "plt.xlabel('Высота потолков, метры')\n",
    "plt.show()"
   ]
  },
  {
   "cell_type": "markdown",
   "metadata": {},
   "source": [
    "### Вывод:"
   ]
  },
  {
   "cell_type": "markdown",
   "metadata": {},
   "source": [
    "Теперь мы определили среднюю квартиру выставленную на продажу в центре Санкт-Петербурга. Рассмотрев полученные характеристики, можно сделать вывод: в центре немного выше размеры квартир и цена значительно превышает среднюю по нашим общим данным, а вообще квартиры схожи по своим общим данным."
   ]
  },
  {
   "cell_type": "code",
   "execution_count": 415,
   "metadata": {},
   "outputs": [
    {
     "data": {
      "text/html": [
       "<style  type=\"text/css\" >\n",
       "    #T_fffa9a6a_d4fd_11ea_8395_02420a3968bfrow0_col0 {\n",
       "            background-color:  #b40426;\n",
       "            color:  #f1f1f1;\n",
       "        }    #T_fffa9a6a_d4fd_11ea_8395_02420a3968bfrow0_col1 {\n",
       "            background-color:  #e1dad6;\n",
       "            color:  #000000;\n",
       "        }    #T_fffa9a6a_d4fd_11ea_8395_02420a3968bfrow0_col2 {\n",
       "            background-color:  #90b2fe;\n",
       "            color:  #000000;\n",
       "        }    #T_fffa9a6a_d4fd_11ea_8395_02420a3968bfrow0_col3 {\n",
       "            background-color:  #3d50c3;\n",
       "            color:  #f1f1f1;\n",
       "        }    #T_fffa9a6a_d4fd_11ea_8395_02420a3968bfrow0_col4 {\n",
       "            background-color:  #455cce;\n",
       "            color:  #f1f1f1;\n",
       "        }    #T_fffa9a6a_d4fd_11ea_8395_02420a3968bfrow0_col5 {\n",
       "            background-color:  #82a6fb;\n",
       "            color:  #000000;\n",
       "        }    #T_fffa9a6a_d4fd_11ea_8395_02420a3968bfrow0_col6 {\n",
       "            background-color:  #9abbff;\n",
       "            color:  #000000;\n",
       "        }    #T_fffa9a6a_d4fd_11ea_8395_02420a3968bfrow1_col0 {\n",
       "            background-color:  #e0dbd8;\n",
       "            color:  #000000;\n",
       "        }    #T_fffa9a6a_d4fd_11ea_8395_02420a3968bfrow1_col1 {\n",
       "            background-color:  #b40426;\n",
       "            color:  #f1f1f1;\n",
       "        }    #T_fffa9a6a_d4fd_11ea_8395_02420a3968bfrow1_col2 {\n",
       "            background-color:  #3b4cc0;\n",
       "            color:  #f1f1f1;\n",
       "        }    #T_fffa9a6a_d4fd_11ea_8395_02420a3968bfrow1_col3 {\n",
       "            background-color:  #3b4cc0;\n",
       "            color:  #f1f1f1;\n",
       "        }    #T_fffa9a6a_d4fd_11ea_8395_02420a3968bfrow1_col4 {\n",
       "            background-color:  #3b4cc0;\n",
       "            color:  #f1f1f1;\n",
       "        }    #T_fffa9a6a_d4fd_11ea_8395_02420a3968bfrow1_col5 {\n",
       "            background-color:  #8caffe;\n",
       "            color:  #000000;\n",
       "        }    #T_fffa9a6a_d4fd_11ea_8395_02420a3968bfrow1_col6 {\n",
       "            background-color:  #7ea1fa;\n",
       "            color:  #000000;\n",
       "        }    #T_fffa9a6a_d4fd_11ea_8395_02420a3968bfrow2_col0 {\n",
       "            background-color:  #90b2fe;\n",
       "            color:  #000000;\n",
       "        }    #T_fffa9a6a_d4fd_11ea_8395_02420a3968bfrow2_col1 {\n",
       "            background-color:  #3d50c3;\n",
       "            color:  #f1f1f1;\n",
       "        }    #T_fffa9a6a_d4fd_11ea_8395_02420a3968bfrow2_col2 {\n",
       "            background-color:  #b40426;\n",
       "            color:  #f1f1f1;\n",
       "        }    #T_fffa9a6a_d4fd_11ea_8395_02420a3968bfrow2_col3 {\n",
       "            background-color:  #bcd2f7;\n",
       "            color:  #000000;\n",
       "        }    #T_fffa9a6a_d4fd_11ea_8395_02420a3968bfrow2_col4 {\n",
       "            background-color:  #485fd1;\n",
       "            color:  #f1f1f1;\n",
       "        }    #T_fffa9a6a_d4fd_11ea_8395_02420a3968bfrow2_col5 {\n",
       "            background-color:  #89acfd;\n",
       "            color:  #000000;\n",
       "        }    #T_fffa9a6a_d4fd_11ea_8395_02420a3968bfrow2_col6 {\n",
       "            background-color:  #86a9fc;\n",
       "            color:  #000000;\n",
       "        }    #T_fffa9a6a_d4fd_11ea_8395_02420a3968bfrow3_col0 {\n",
       "            background-color:  #3b4cc0;\n",
       "            color:  #f1f1f1;\n",
       "        }    #T_fffa9a6a_d4fd_11ea_8395_02420a3968bfrow3_col1 {\n",
       "            background-color:  #3b4cc0;\n",
       "            color:  #f1f1f1;\n",
       "        }    #T_fffa9a6a_d4fd_11ea_8395_02420a3968bfrow3_col2 {\n",
       "            background-color:  #bbd1f8;\n",
       "            color:  #000000;\n",
       "        }    #T_fffa9a6a_d4fd_11ea_8395_02420a3968bfrow3_col3 {\n",
       "            background-color:  #b40426;\n",
       "            color:  #f1f1f1;\n",
       "        }    #T_fffa9a6a_d4fd_11ea_8395_02420a3968bfrow3_col4 {\n",
       "            background-color:  #485fd1;\n",
       "            color:  #f1f1f1;\n",
       "        }    #T_fffa9a6a_d4fd_11ea_8395_02420a3968bfrow3_col5 {\n",
       "            background-color:  #80a3fa;\n",
       "            color:  #000000;\n",
       "        }    #T_fffa9a6a_d4fd_11ea_8395_02420a3968bfrow3_col6 {\n",
       "            background-color:  #8fb1fe;\n",
       "            color:  #000000;\n",
       "        }    #T_fffa9a6a_d4fd_11ea_8395_02420a3968bfrow4_col0 {\n",
       "            background-color:  #6e90f2;\n",
       "            color:  #000000;\n",
       "        }    #T_fffa9a6a_d4fd_11ea_8395_02420a3968bfrow4_col1 {\n",
       "            background-color:  #6687ed;\n",
       "            color:  #000000;\n",
       "        }    #T_fffa9a6a_d4fd_11ea_8395_02420a3968bfrow4_col2 {\n",
       "            background-color:  #7093f3;\n",
       "            color:  #000000;\n",
       "        }    #T_fffa9a6a_d4fd_11ea_8395_02420a3968bfrow4_col3 {\n",
       "            background-color:  #7396f5;\n",
       "            color:  #000000;\n",
       "        }    #T_fffa9a6a_d4fd_11ea_8395_02420a3968bfrow4_col4 {\n",
       "            background-color:  #b40426;\n",
       "            color:  #f1f1f1;\n",
       "        }    #T_fffa9a6a_d4fd_11ea_8395_02420a3968bfrow4_col5 {\n",
       "            background-color:  #93b5fe;\n",
       "            color:  #000000;\n",
       "        }    #T_fffa9a6a_d4fd_11ea_8395_02420a3968bfrow4_col6 {\n",
       "            background-color:  #85a8fc;\n",
       "            color:  #000000;\n",
       "        }    #T_fffa9a6a_d4fd_11ea_8395_02420a3968bfrow5_col0 {\n",
       "            background-color:  #6384eb;\n",
       "            color:  #000000;\n",
       "        }    #T_fffa9a6a_d4fd_11ea_8395_02420a3968bfrow5_col1 {\n",
       "            background-color:  #7093f3;\n",
       "            color:  #000000;\n",
       "        }    #T_fffa9a6a_d4fd_11ea_8395_02420a3968bfrow5_col2 {\n",
       "            background-color:  #6b8df0;\n",
       "            color:  #000000;\n",
       "        }    #T_fffa9a6a_d4fd_11ea_8395_02420a3968bfrow5_col3 {\n",
       "            background-color:  #6384eb;\n",
       "            color:  #000000;\n",
       "        }    #T_fffa9a6a_d4fd_11ea_8395_02420a3968bfrow5_col4 {\n",
       "            background-color:  #4e68d8;\n",
       "            color:  #000000;\n",
       "        }    #T_fffa9a6a_d4fd_11ea_8395_02420a3968bfrow5_col5 {\n",
       "            background-color:  #b40426;\n",
       "            color:  #f1f1f1;\n",
       "        }    #T_fffa9a6a_d4fd_11ea_8395_02420a3968bfrow5_col6 {\n",
       "            background-color:  #3b4cc0;\n",
       "            color:  #f1f1f1;\n",
       "        }    #T_fffa9a6a_d4fd_11ea_8395_02420a3968bfrow6_col0 {\n",
       "            background-color:  #7b9ff9;\n",
       "            color:  #000000;\n",
       "        }    #T_fffa9a6a_d4fd_11ea_8395_02420a3968bfrow6_col1 {\n",
       "            background-color:  #6282ea;\n",
       "            color:  #000000;\n",
       "        }    #T_fffa9a6a_d4fd_11ea_8395_02420a3968bfrow6_col2 {\n",
       "            background-color:  #6788ee;\n",
       "            color:  #000000;\n",
       "        }    #T_fffa9a6a_d4fd_11ea_8395_02420a3968bfrow6_col3 {\n",
       "            background-color:  #7597f6;\n",
       "            color:  #000000;\n",
       "        }    #T_fffa9a6a_d4fd_11ea_8395_02420a3968bfrow6_col4 {\n",
       "            background-color:  #3e51c5;\n",
       "            color:  #f1f1f1;\n",
       "        }    #T_fffa9a6a_d4fd_11ea_8395_02420a3968bfrow6_col5 {\n",
       "            background-color:  #3b4cc0;\n",
       "            color:  #f1f1f1;\n",
       "        }    #T_fffa9a6a_d4fd_11ea_8395_02420a3968bfrow6_col6 {\n",
       "            background-color:  #b40426;\n",
       "            color:  #f1f1f1;\n",
       "        }</style><table id=\"T_fffa9a6a_d4fd_11ea_8395_02420a3968bf\" ><thead>    <tr>        <th class=\"blank level0\" ></th>        <th class=\"col_heading level0 col0\" >last_price</th>        <th class=\"col_heading level0 col1\" >rooms</th>        <th class=\"col_heading level0 col2\" >floor</th>        <th class=\"col_heading level0 col3\" >citycenter_m</th>        <th class=\"col_heading level0 col4\" >number_day</th>        <th class=\"col_heading level0 col5\" >month</th>        <th class=\"col_heading level0 col6\" >year</th>    </tr></thead><tbody>\n",
       "                <tr>\n",
       "                        <th id=\"T_fffa9a6a_d4fd_11ea_8395_02420a3968bflevel0_row0\" class=\"row_heading level0 row0\" >last_price</th>\n",
       "                        <td id=\"T_fffa9a6a_d4fd_11ea_8395_02420a3968bfrow0_col0\" class=\"data row0 col0\" >1</td>\n",
       "                        <td id=\"T_fffa9a6a_d4fd_11ea_8395_02420a3968bfrow0_col1\" class=\"data row0 col1\" >0.438538</td>\n",
       "                        <td id=\"T_fffa9a6a_d4fd_11ea_8395_02420a3968bfrow0_col2\" class=\"data row0 col2\" >0.143371</td>\n",
       "                        <td id=\"T_fffa9a6a_d4fd_11ea_8395_02420a3968bfrow0_col3\" class=\"data row0 col3\" >-0.154488</td>\n",
       "                        <td id=\"T_fffa9a6a_d4fd_11ea_8395_02420a3968bfrow0_col4\" class=\"data row0 col4\" >0.0309186</td>\n",
       "                        <td id=\"T_fffa9a6a_d4fd_11ea_8395_02420a3968bfrow0_col5\" class=\"data row0 col5\" >-0.00455501</td>\n",
       "                        <td id=\"T_fffa9a6a_d4fd_11ea_8395_02420a3968bfrow0_col6\" class=\"data row0 col6\" >0.0789092</td>\n",
       "            </tr>\n",
       "            <tr>\n",
       "                        <th id=\"T_fffa9a6a_d4fd_11ea_8395_02420a3968bflevel0_row1\" class=\"row_heading level0 row1\" >rooms</th>\n",
       "                        <td id=\"T_fffa9a6a_d4fd_11ea_8395_02420a3968bfrow1_col0\" class=\"data row1 col0\" >0.438538</td>\n",
       "                        <td id=\"T_fffa9a6a_d4fd_11ea_8395_02420a3968bfrow1_col1\" class=\"data row1 col1\" >1</td>\n",
       "                        <td id=\"T_fffa9a6a_d4fd_11ea_8395_02420a3968bfrow1_col2\" class=\"data row1 col2\" >-0.156442</td>\n",
       "                        <td id=\"T_fffa9a6a_d4fd_11ea_8395_02420a3968bfrow1_col3\" class=\"data row1 col3\" >-0.168014</td>\n",
       "                        <td id=\"T_fffa9a6a_d4fd_11ea_8395_02420a3968bfrow1_col4\" class=\"data row1 col4\" >-0.00565666</td>\n",
       "                        <td id=\"T_fffa9a6a_d4fd_11ea_8395_02420a3968bfrow1_col5\" class=\"data row1 col5\" >0.0299942</td>\n",
       "                        <td id=\"T_fffa9a6a_d4fd_11ea_8395_02420a3968bfrow1_col6\" class=\"data row1 col6\" >-0.0209629</td>\n",
       "            </tr>\n",
       "            <tr>\n",
       "                        <th id=\"T_fffa9a6a_d4fd_11ea_8395_02420a3968bflevel0_row2\" class=\"row_heading level0 row2\" >floor</th>\n",
       "                        <td id=\"T_fffa9a6a_d4fd_11ea_8395_02420a3968bfrow2_col0\" class=\"data row2 col0\" >0.143371</td>\n",
       "                        <td id=\"T_fffa9a6a_d4fd_11ea_8395_02420a3968bfrow2_col1\" class=\"data row2 col1\" >-0.156442</td>\n",
       "                        <td id=\"T_fffa9a6a_d4fd_11ea_8395_02420a3968bfrow2_col2\" class=\"data row2 col2\" >1</td>\n",
       "                        <td id=\"T_fffa9a6a_d4fd_11ea_8395_02420a3968bfrow2_col3\" class=\"data row2 col3\" >0.287205</td>\n",
       "                        <td id=\"T_fffa9a6a_d4fd_11ea_8395_02420a3968bfrow2_col4\" class=\"data row2 col4\" >0.0409861</td>\n",
       "                        <td id=\"T_fffa9a6a_d4fd_11ea_8395_02420a3968bfrow2_col5\" class=\"data row2 col5\" >0.0200849</td>\n",
       "                        <td id=\"T_fffa9a6a_d4fd_11ea_8395_02420a3968bfrow2_col6\" class=\"data row2 col6\" >0.00870692</td>\n",
       "            </tr>\n",
       "            <tr>\n",
       "                        <th id=\"T_fffa9a6a_d4fd_11ea_8395_02420a3968bflevel0_row3\" class=\"row_heading level0 row3\" >citycenter_m</th>\n",
       "                        <td id=\"T_fffa9a6a_d4fd_11ea_8395_02420a3968bfrow3_col0\" class=\"data row3 col0\" >-0.154488</td>\n",
       "                        <td id=\"T_fffa9a6a_d4fd_11ea_8395_02420a3968bfrow3_col1\" class=\"data row3 col1\" >-0.168014</td>\n",
       "                        <td id=\"T_fffa9a6a_d4fd_11ea_8395_02420a3968bfrow3_col2\" class=\"data row3 col2\" >0.287205</td>\n",
       "                        <td id=\"T_fffa9a6a_d4fd_11ea_8395_02420a3968bfrow3_col3\" class=\"data row3 col3\" >1</td>\n",
       "                        <td id=\"T_fffa9a6a_d4fd_11ea_8395_02420a3968bfrow3_col4\" class=\"data row3 col4\" >0.0406809</td>\n",
       "                        <td id=\"T_fffa9a6a_d4fd_11ea_8395_02420a3968bfrow3_col5\" class=\"data row3 col5\" >-0.0159575</td>\n",
       "                        <td id=\"T_fffa9a6a_d4fd_11ea_8395_02420a3968bfrow3_col6\" class=\"data row3 col6\" >0.0429534</td>\n",
       "            </tr>\n",
       "            <tr>\n",
       "                        <th id=\"T_fffa9a6a_d4fd_11ea_8395_02420a3968bflevel0_row4\" class=\"row_heading level0 row4\" >number_day</th>\n",
       "                        <td id=\"T_fffa9a6a_d4fd_11ea_8395_02420a3968bfrow4_col0\" class=\"data row4 col0\" >0.0309186</td>\n",
       "                        <td id=\"T_fffa9a6a_d4fd_11ea_8395_02420a3968bfrow4_col1\" class=\"data row4 col1\" >-0.00565666</td>\n",
       "                        <td id=\"T_fffa9a6a_d4fd_11ea_8395_02420a3968bfrow4_col2\" class=\"data row4 col2\" >0.0409861</td>\n",
       "                        <td id=\"T_fffa9a6a_d4fd_11ea_8395_02420a3968bfrow4_col3\" class=\"data row4 col3\" >0.0406809</td>\n",
       "                        <td id=\"T_fffa9a6a_d4fd_11ea_8395_02420a3968bfrow4_col4\" class=\"data row4 col4\" >1</td>\n",
       "                        <td id=\"T_fffa9a6a_d4fd_11ea_8395_02420a3968bfrow4_col5\" class=\"data row4 col5\" >0.057372</td>\n",
       "                        <td id=\"T_fffa9a6a_d4fd_11ea_8395_02420a3968bfrow4_col6\" class=\"data row4 col6\" >0.00623161</td>\n",
       "            </tr>\n",
       "            <tr>\n",
       "                        <th id=\"T_fffa9a6a_d4fd_11ea_8395_02420a3968bflevel0_row5\" class=\"row_heading level0 row5\" >month</th>\n",
       "                        <td id=\"T_fffa9a6a_d4fd_11ea_8395_02420a3968bfrow5_col0\" class=\"data row5 col0\" >-0.00455501</td>\n",
       "                        <td id=\"T_fffa9a6a_d4fd_11ea_8395_02420a3968bfrow5_col1\" class=\"data row5 col1\" >0.0299942</td>\n",
       "                        <td id=\"T_fffa9a6a_d4fd_11ea_8395_02420a3968bfrow5_col2\" class=\"data row5 col2\" >0.0200849</td>\n",
       "                        <td id=\"T_fffa9a6a_d4fd_11ea_8395_02420a3968bfrow5_col3\" class=\"data row5 col3\" >-0.0159575</td>\n",
       "                        <td id=\"T_fffa9a6a_d4fd_11ea_8395_02420a3968bfrow5_col4\" class=\"data row5 col4\" >0.057372</td>\n",
       "                        <td id=\"T_fffa9a6a_d4fd_11ea_8395_02420a3968bfrow5_col5\" class=\"data row5 col5\" >1</td>\n",
       "                        <td id=\"T_fffa9a6a_d4fd_11ea_8395_02420a3968bfrow5_col6\" class=\"data row5 col6\" >-0.289235</td>\n",
       "            </tr>\n",
       "            <tr>\n",
       "                        <th id=\"T_fffa9a6a_d4fd_11ea_8395_02420a3968bflevel0_row6\" class=\"row_heading level0 row6\" >year</th>\n",
       "                        <td id=\"T_fffa9a6a_d4fd_11ea_8395_02420a3968bfrow6_col0\" class=\"data row6 col0\" >0.0789092</td>\n",
       "                        <td id=\"T_fffa9a6a_d4fd_11ea_8395_02420a3968bfrow6_col1\" class=\"data row6 col1\" >-0.0209629</td>\n",
       "                        <td id=\"T_fffa9a6a_d4fd_11ea_8395_02420a3968bfrow6_col2\" class=\"data row6 col2\" >0.00870692</td>\n",
       "                        <td id=\"T_fffa9a6a_d4fd_11ea_8395_02420a3968bfrow6_col3\" class=\"data row6 col3\" >0.0429534</td>\n",
       "                        <td id=\"T_fffa9a6a_d4fd_11ea_8395_02420a3968bfrow6_col4\" class=\"data row6 col4\" >0.00623161</td>\n",
       "                        <td id=\"T_fffa9a6a_d4fd_11ea_8395_02420a3968bfrow6_col5\" class=\"data row6 col5\" >-0.289235</td>\n",
       "                        <td id=\"T_fffa9a6a_d4fd_11ea_8395_02420a3968bfrow6_col6\" class=\"data row6 col6\" >1</td>\n",
       "            </tr>\n",
       "    </tbody></table>"
      ],
      "text/plain": [
       "<pandas.io.formats.style.Styler at 0x7f8532873a10>"
      ]
     },
     "execution_count": 415,
     "metadata": {},
     "output_type": "execute_result"
    }
   ],
   "source": [
    "#выделим факторы, которые влияют на стоимость квартиры в центре \"Санкт-Петербурга\"\n",
    "corr = spb_center[['last_price',\\\n",
    "           'rooms',\\\n",
    "           'floor',\\\n",
    "           'citycenter_m',\\\n",
    "           'number_day',\\\n",
    "           'month',\\\n",
    "            'year'    \n",
    "               ]].corr()\n",
    "corr.style.background_gradient(cmap='coolwarm')"
   ]
  },
  {
   "cell_type": "code",
   "execution_count": 416,
   "metadata": {},
   "outputs": [
    {
     "data": {
      "image/png": "[encoded data removed]",
      "text/plain": [
       "<Figure size 432x288 with 1 Axes>"
      ]
     },
     "metadata": {
      "needs_background": "light"
     },
     "output_type": "display_data"
    }
   ],
   "source": [
    "#посмотрим как менялась активность продаж квартир в зависимости от временных данных и зоны расположения\n",
    "ax = spb_center.plot(kind='hist', y='number_day', histtype='step', bins=7, label='В центре')\n",
    "\n",
    "good_df[(good_df['citycenter_km'] > 8) & (good_df['locality_name'] == 'Санкт-Петербург')]\\\n",
    ".plot(kind='hist', y='number_day', histtype='step', bins=7, ax=ax, label='За центром', linestyle='dashed')\n",
    "plt.xlabel('День публикации')\n",
    "plt.ylabel('Частотность')\n",
    "\n",
    "plt.show()\n"
   ]
  },
  {
   "cell_type": "code",
   "execution_count": 417,
   "metadata": {},
   "outputs": [
    {
     "data": {
      "image/png": "[encoded data removed]",
      "text/plain": [
       "<Figure size 432x288 with 1 Axes>"
      ]
     },
     "metadata": {
      "needs_background": "light"
     },
     "output_type": "display_data"
    }
   ],
   "source": [
    "ax = spb_center.plot(kind='hist', y='month', histtype='step', bins=12, label='В центре')\n",
    "good_df[(good_df['citycenter_km'] > 6) & (good_df['locality_name'] == 'Санкт-Петербург')]\\\n",
    ".plot(kind='hist', y='month', histtype='step', bins=12, ax=ax, label='За центром', linestyle='dashed')\n",
    "plt.xlabel('Месяц публикации')\n",
    "plt.ylabel('Частотность')\n",
    "plt.show()"
   ]
  },
  {
   "cell_type": "code",
   "execution_count": 418,
   "metadata": {},
   "outputs": [
    {
     "data": {
      "image/png": "[encoded data removed]",
      "text/plain": [
       "<Figure size 432x288 with 1 Axes>"
      ]
     },
     "metadata": {
      "needs_background": "light"
     },
     "output_type": "display_data"
    }
   ],
   "source": [
    "ax = spb_center.plot(kind='hist', y='year', histtype='step', bins=6, label='В центре')\n",
    "good_df[(good_df['citycenter_km'] > 8) & (good_df['locality_name'] == 'Санкт-Петербург')]\\\n",
    ".plot(kind='hist', y='year', histtype='step', bins=6, ax=ax, label='За центром', linestyle='dashed')\n",
    "plt.xlabel('Год публикации')\n",
    "plt.ylabel('Частотность')\n",
    "plt.show()"
   ]
  },
  {
   "cell_type": "markdown",
   "metadata": {},
   "source": [
    "### Вывод"
   ]
  },
  {
   "cell_type": "markdown",
   "metadata": {},
   "source": [
    "Можно отметить довольно сильную зависимость стоимости квартир от количества комнат, влияет также и этаж, но примерно с такой же силой как и в общем по таблице данных. Также ясно видна зависимость от расстояния до центра, с удалением соответственно будет падать и цена.\n",
    "\n",
    "Дополнено: Наибольшую активность продавцы проявляют в первые пять дней недели, а выходные затишье. Также удалось выяснить, что больше всего объявлений появляется весной и осенью, однако в центре квартиры продают примерно с одинаковой активностью в течение всех месяцев года. Основная масса публикации квартир пришлась в период с середины 2016 по середину 2018 годов."
   ]
  },
  {
   "cell_type": "markdown",
   "metadata": {},
   "source": [
    "### <a href='section7'>5. Общий вывод</a>"
   ]
  },
  {
   "cell_type": "markdown",
   "metadata": {},
   "source": [
    "Мы провели ряд исследований, и уже можем точно сказать, какие параметры влияют на определение рыночной стоимости квартиры.\n",
    "\n",
    "1. общая площадь (50-60 кв.м. это золотая середина для квартир)\n",
    "2. число комнат (2-комнатные квартиры самые популярные)\n",
    "3. этаж квартиры(люди все также стараются избегать первый и последний этаж, хотя эта тенденция постепенно меняется)\n",
    "4. расстояние от центра города (чем ближе к центру тем увеличивается цена, да и спрос на такие квартиры всегда повышенный)\n",
    "\n",
    "Что касается выявленных аномалий:программистам надо разработать алгоритм, не позволяющий вводить нереальные данные, это особенно касается высоты потолков и количества комнат в квартире. Также необходимо отдельно проанализировать, что приводит к задержки на годы продажи части квартир, возможно разработать какие-то подсказки при заполнении, что поможет продавцу качественне заполнить данные и указать цену более реальную на сегодняшний день. Квартиры, которые продавались за пару дней, стоит проверить, возможно это мошеннические действия, либо продавцы передумали продавать их, тогда узнать по какой причине."
   ]
  }
 ],
 "metadata": {
  "kernelspec": {
   "display_name": "Python 3",
   "language": "python",
   "name": "python3"
  },
  "language_info": {
   "codemirror_mode": {
    "name": "ipython",
    "version": 3
   },
   "file_extension": ".py",
   "mimetype": "text/x-python",
   "name": "python",
   "nbconvert_exporter": "python",
   "pygments_lexer": "ipython3",
   "version": "3.7.6"
  }
 },
 "nbformat": 4,
 "nbformat_minor": 2
}
